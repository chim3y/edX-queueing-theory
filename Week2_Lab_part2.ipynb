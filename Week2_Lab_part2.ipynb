{
 "cells": [
  {
   "cell_type": "markdown",
   "metadata": {},
   "source": [
    "\n",
    "<p><font size=\"5\">  MOOC: Understanding queues</font></p>\n",
    "<p><font size=\"5\">  Python Lab\n",
    "</p></br>\n",
    "<p><font size=\"5\">  Week II - Part II: M/M/1 queue simulation</p></br>\n",
    "\n",
    "------------------------"
   ]
  },
  {
   "cell_type": "markdown",
   "metadata": {},
   "source": [
    "# Introduction\n",
    "\n",
    "In this second part of the lab, we are going to use the $M/M/1$ queue simulation of the first part to get deeper insight in the subject.\n",
    "\n",
    "> - Section **I**  is devoted to some calculations useful for the $M/M/1$ queue generation. \n",
    "> - In section **II** we compute the steady state distribution of the number of clients in the system.\n",
    "> - In section **III**, we compute the average time spent by a client in the system. "
   ]
  },
  {
   "cell_type": "markdown",
   "metadata": {},
   "source": [
    "# I - M/M/1 queue generation\n",
    "\n",
    "In this first exercise, we simply recall the derivation of the expression of parameters that we used to write function **generate_MM1** in the first part of the lab of this week. \n",
    "\n",
    "**1)** Calculate the probability that the next event is an arrival ? a departure ?\n",
    "\n",
    "**2)** Calculate the distribution of time between two successive events, depending whether the system is empty or not."
   ]
  },
  {
   "cell_type": "markdown",
   "metadata": {},
   "source": [
    "### **Answer to question I-1** "
   ]
  },
  {
   "cell_type": "markdown",
   "metadata": {},
   "source": [
    "From a fixed instant $\\tau$, let us denote by $X$ the delay to the next event and $X_a$ and $X_d$ the delays to the next arrival and departure respectively. \n",
    "\n",
    "If the system is empty, the probability that the next event is an arrival is 1. \n",
    "\n",
    "Because of the memoryless property, if the system is not empty, $X_a$ and $X_d$ are independent with distributions $Exp(\\lambda)$ and $Exp(\\mu)$ and the probability that the next event is an arrival is\n",
    "\n",
    "$$\n",
    "\\begin{array}{ll}\n",
    "P(X=X_a)  &= P(X_d> X_a)\\\\\n",
    "          &= \\int_{x_d>x_a}\\lambda e^{-\\lambda x_a}\\times \\mu e^{-\\mu x_d}dx_adx_d\\\\\n",
    "          &=\\int_{x_a=-\\infty}^{\\infty}\\lambda e^{-\\lambda x_a}\n",
    "             \\left(\\int_{x_d=x_a}^{\\infty}  \\mu e^{-\\mu x_d} dx_d\\right) dx_a\\\\\n",
    "          &= \\int_{x_a=-\\infty}^{\\infty}\\lambda e^{-\\lambda x_a}\\mu e^{-\\mu x_a}dx_a\\\\\n",
    "          &= \\dfrac{\\lambda}{\\lambda+\\mu}.\\\\\n",
    "\\end{array}\n",
    "$$\n",
    "\n",
    "Thus the probability that the next event is an arrival is $\\dfrac{\\lambda}{\\lambda+\\mu}$and the probability that it is a departure is $1-\\dfrac{\\lambda}{\\lambda+\\mu}=\\dfrac{\\mu}{\\lambda+\\mu}$.\n"
   ]
  },
  {
   "cell_type": "markdown",
   "metadata": {},
   "source": [
    "### **Answers to question I-2** "
   ]
  },
  {
   "cell_type": "markdown",
   "metadata": {},
   "source": [
    "From a fixed instant $\\tau$, if the system is empty, the next event is an arrival and we have $X=X_a$: $X\\sim Exp(\\lambda)$.\n",
    "\n",
    "If the system is not empty, $X_a$ and $X_d$ are independent with distributions $Exp(\\lambda)$ and $Exp(\\mu)$. Then,\n",
    "\n",
    "$$\n",
    "\\begin{array}{ll}\n",
    "P(X> t) &= P(X_a>t,X_d>t)\\\\\n",
    "           &= P(X_a>t)P(X_d>t)\\\\\n",
    "           &= e^{-\\lambda t}e^{-\\mu t} \\\\\n",
    "           &= e^{-(\\lambda +\\mu) t}.\n",
    "\\end{array}\n",
    "$$\n",
    "Thus $X\\sim Exp(\\lambda +\\mu)$.\n",
    "\n",
    "As a conclusion, if the system is empty, the delay between two successive events follows an $Exp(\\lambda)$ distribution and if it is not empty this delay follows an \n",
    "$Exp(\\lambda +\\mu)$ distribution."
   ]
  },
  {
   "cell_type": "markdown",
   "metadata": {},
   "source": [
    "# II - Checking the steady state distribution\n",
    "\n",
    "In this section we check that the state of the system, that is, the number $N$ of clients in the system, tends to be rapidly distributed according to a geometric distribution.\n",
    "\n",
    "**1)** First, we study sample distributions at a fixed time from the simulation of many trajectories of the number of clients in the system.\n",
    "\n",
    "> - **1-** Plot $N_{traj}=10$ trajectories of evolution of the number of clients in the system over  $[0,T]$, with $T=30s$. Consider $N_0=5$ and $N_0=10$ for the initial number of clients in the system. What can we observe?\n",
    "> - **2-** For $N_{traj}=10^4$ trajectories of the number of clients in the $M/M/1$ queue, record the values $N_{T}$ and $N_{2T}$ of the number of clients in the system at instants $T=10s$ and $2T$. Plot the histograms of the number of clients in the system at times $T$ and $2T$. Compare them together and with the steady state distribution of the queue, that is, a geometric distribution with parameter $\\rho=\\lambda/\\mu$. Conclusions? \n",
    "\n",
    "\n",
    "**2)** Now, we check that the steady state distribution can also be computed from average times spent in the different states of the system, estimated along one trajectory of the state. When it is satisfied, this property of a random process is known as ergodicity. \n",
    "\n",
    "For an observation over $[0,T]$ with $T=10^4$, plot the proportion of time during which there are $N$ clients in the system, for $N=0,\\ldots, 10$. Compare this plot to the steady state distribution of the number of clients in the system on a semilog plot. "
   ]
  },
  {
   "cell_type": "code",
   "execution_count": 1,
   "metadata": {},
   "outputs": [],
   "source": [
    "%matplotlib inline              \n",
    "from pylab import *          "
   ]
  },
  {
   "cell_type": "code",
   "execution_count": 2,
   "metadata": {},
   "outputs": [],
   "source": [
    "# generate_MM1 (studied in the first lab of week 2)\n",
    "\n",
    "def generate_MM1(λ = 4.,μ = 5.,N0 = 5,Tmax=200):\n",
    "    \"\"\"\n",
    "    function generate_MM1(λ = 4.,μ = 5.,n0 = 5,Tmax=200)\n",
    "    generates an MM1 file\n",
    "    INPUTS\n",
    "    ------\n",
    "    λ       : intensity of arrivals (default =4.)\n",
    "    μ       : intensity of departures (default = 5.)\n",
    "    N0      : initial state of the system (default = 5)\n",
    "    Tmax    : duration of the observation (default = 200)\n",
    "    OUTPUTS\n",
    "    -------\n",
    "    ρ       : λ/μ\n",
    "    T       : list of time of events (arrivals or departures) over [0,T]\n",
    "    N       : list of system state (at T(t): N->N+1 or N->N-1)\n",
    "    \"\"\"\n",
    "    ρ  = λ/μ\n",
    "    τ  = 0       # initial instant\n",
    "    T  = [τ]   # list of instants of events\n",
    "    N  = [N0]    # initial state of the system, list of state evolutions\n",
    "\n",
    "    while T[-1]<Tmax:\n",
    "        if N[-1]==0:\n",
    "            τ     = -1./λ*log(rand()) # inter-arrivals when N(t)=0\n",
    "            event = 1\n",
    "        else:\n",
    "            τ     = -1./(λ+μ)*log(rand()) # inter-arrivals when N(t)>0\n",
    "            event = 2*(rand()<ρ/(1+ρ))-1 # +1 for an arrival, -1 for a departure\n",
    "        N = N + [N[-1]+event]\n",
    "        T = T + [T[-1]+τ]\n",
    "\n",
    "    T = T[:-1] # event after Tmax is discarded\n",
    "    N = N[:-1]\n",
    "    return ρ,T,N"
   ]
  },
  {
   "cell_type": "markdown",
   "metadata": {},
   "source": [
    "### **Answer to question II-1-1** "
   ]
  },
  {
   "cell_type": "markdown",
   "metadata": {},
   "source": [
    "From the plots, its seems that dependency of trajectories against $N_0$ vanishes rapidly after a few seconds."
   ]
  },
  {
   "cell_type": "code",
   "execution_count": 3,
   "metadata": {},
   "outputs": [
    {
     "data": {
      "image/png": "[encoded data removed]",
      "text/plain": [
       "<Figure size 720x288 with 2 Axes>"
      ]
     },
     "metadata": {},
     "output_type": "display_data"
    }
   ],
   "source": [
    "def step(x,y,Tmax=0,color='b'):\n",
    "    # plots a step function representing the number\n",
    "    # of clients in the system at each instant\n",
    "    if Tmax==0:\n",
    "        Tmax = max(x)\n",
    "    x = append(x,[Tmax])  # number of clients\n",
    "    y = append(y,[y[-1]]) # instants of events\n",
    "    for k in range(len(x)-1):\n",
    "        vlines(x[k+1],y[k],y[k+1],color=color)\n",
    "        hlines(y[k],x[k],x[k+1],color=color)\n",
    "\n",
    "colors  = ('r','b','c','k','g','m','w','y','grey','pink')\n",
    "Tmax    = 30\n",
    "figure(figsize=(10., 4.))\n",
    "\n",
    "subplot(121)\n",
    "ymax    = 0\n",
    "for c in colors:\n",
    "    ρ,T,N = generate_MM1(Tmax=Tmax,N0=5)\n",
    "    step(T,N,Tmax=Tmax,color = c)\n",
    "    ymax=maximum(max(N),ymax)\n",
    "title('System state with $N_0=5$') \n",
    "xlabel('Time'), ylabel('Number of clients in the system')\n",
    "axis(ymax=ymax+1)\n",
    "\n",
    "subplot(122)\n",
    "ymax   = 0\n",
    "for c in colors:\n",
    "    rho,T,N = generate_MM1(Tmax=Tmax,N0=10)\n",
    "    step(T,N,Tmax=Tmax,color = c)\n",
    "    ymax=maximum(max(N),ymax)\n",
    "title('System state with $N_0=10$') \n",
    "xlabel('Time'), ylabel('Number of clients  in the system')\n",
    "axis(ymax=ymax+1);"
   ]
  },
  {
   "cell_type": "markdown",
   "metadata": {},
   "source": [
    "### **Answer to question II-1-2** \n",
    "\n",
    "From the plots, we check that we get quite similar histograms at $T=10s$ and $2T=20s$ and that these histograms fit well the steady state distribution. However, a slightly better fit is obtained at $2T=20s$, which can be explained by the fact that at larger time the steady state distribution is better approached."
   ]
  },
  {
   "cell_type": "markdown",
   "metadata": {},
   "source": [
    "Computation of the histograms for $T=10s$ and $T=20s$."
   ]
  },
  {
   "cell_type": "code",
   "execution_count": 4,
   "metadata": {},
   "outputs": [],
   "source": [
    "N_traj     = 10**4\n",
    "Tmax       = 10\n",
    "Imax       = 10 # max probability index estimated\n",
    "P_est_T    = zeros(Imax+1)\n",
    "P_est_2T   = zeros(Imax+1)\n",
    "N_T        = zeros(N_traj) # values of N at Tmax\n",
    "N_2T       = zeros(N_traj) # values of N at 2Tmax\n",
    "\n",
    "for k in range(N_traj):\n",
    "    # generating trajectory till Tmax\n",
    "    ρ,T,N  = generate_MM1(Tmax=Tmax,N0=10)\n",
    "    N_T[k] = N[-1]\n",
    "    ##########################################\n",
    "    # continuing the trajectory till 2Tmax\n",
    "    # enter the value N0 for the second part of the trajectory\n",
    "    c     = N[-1]\n",
    "    ρ,T,N = generate_MM1(Tmax=Tmax,N0=c)\n",
    "    ##########################################\n",
    "    N_2T[k] = N[-1]\n",
    "\n",
    "P_est_T  = array([sum([N_T[k]==i  for k in range(N_traj)]) \n",
    "                  for i in range(Imax+1)])/N_traj\n",
    "P_est_2T = array([sum([N_2T[k]==i for k in range(N_traj)]) \n",
    "                  for i in range(Imax+1)])/N_traj\n",
    "\n",
    "#----------------\n",
    "V1 = N[0]-N_T[-1]"
   ]
  },
  {
   "cell_type": "markdown",
   "metadata": {},
   "source": [
    "Plot of the histograms."
   ]
  },
  {
   "cell_type": "code",
   "execution_count": 5,
   "metadata": {},
   "outputs": [
    {
     "data": {
      "image/png": "[encoded data removed]",
      "text/plain": [
       "<Figure size 432x288 with 2 Axes>"
      ]
     },
     "metadata": {},
     "output_type": "display_data"
    }
   ],
   "source": [
    "x       = range(Imax+1)              # probability indices\n",
    "##############################\n",
    "# Define the steady state distribution of state k (k=0,1,...)\n",
    "def p(k):\n",
    "    return (1-ρ)*ρ**k\n",
    "P       = [p(k) for k in x] # steady state pobabilities\n",
    "##############################\n",
    "subplot(211)\n",
    "vlines(x,0,P,colors='b',label=\"Geometric distribution\")\n",
    "plot(x, P,'bx')\n",
    "plot(x, P_est_T,'ro',label=\"Histogram at T=%ds\"%Tmax)\n",
    "axis(xmin=-.1,ymax=.25)\n",
    "legend()\n",
    "title(\"Distribution of the number of clients in the M/M/1 queue\")\n",
    "subplot(212)\n",
    "vlines(x,0,P,colors='b',label=\"Geometric distribution\")\n",
    "plot(x, P,'bx')\n",
    "plot(x, P_est_2T,'ro',label=\"Histogram at T=%ds\"%(2*Tmax))\n",
    "axis(xmin=-.1,ymax=.25)\n",
    "legend();\n",
    "\n",
    "#----------------\n",
    "V2 = norm(P-(1-ρ)*array([ρ**k for k in x]))"
   ]
  },
  {
   "cell_type": "markdown",
   "metadata": {},
   "source": [
    "### **Answer to question II-2** \n",
    "\n",
    "Simulation shows that histogram of probabilities calculated from average time spent in the different states fits well the steady state distribution of the $M/M/1$."
   ]
  },
  {
   "cell_type": "code",
   "execution_count": 6,
   "metadata": {},
   "outputs": [
    {
     "data": {
      "image/png": "[encoded data removed]",
      "text/plain": [
       "<Figure size 432x288 with 1 Axes>"
      ]
     },
     "metadata": {},
     "output_type": "display_data"
    }
   ],
   "source": [
    "ρ,T,N    = generate_MM1(Tmax=1e4)\n",
    "Kmax     = 100\n",
    "T_states = zeros(Kmax+1) # time spent in states 0,...Ip_max\n",
    "T_states = [sum([T[i+1]-T[i] for i in range(len(N)-1) if N[i]==k]) \n",
    "            for k in range(Kmax+1)]\n",
    "############################\n",
    "# normalized estimated probabilities for states 0,..,Imax\n",
    "# [N.count(k)/len(N) for k in range(11)]\n",
    "P_est = [p(k) for k in x] # estimated probabilities\n",
    "############################\n",
    "\n",
    "vlines(x,0,P,colors='b',label=\"Geometric distribution\")\n",
    "plot(x, P,'bx')\n",
    "plot(x, P_est,'ro',label=\"Single path histogram\")\n",
    "title(\"Histogram of the number of clients in the M/M/1 queue along a trajectory\")\n",
    "axis(xmin=-.1,ymax=.25)\n",
    "legend()\n",
    "\n",
    "#--------------\n",
    "V3 = sum(P_est)"
   ]
  },
  {
   "cell_type": "markdown",
   "metadata": {
    "collapsed": true
   },
   "source": [
    "## III - Time spent by clients in the system\n",
    "\n",
    "In this section, we compute the histogram of the time spent by a client in the system, that is to say the elapsed time from the moment when the client arrives until it goes out of the server. \n",
    "\n",
    "**1)** Modify function **generate_MM1** to supply additionally the time spent by users in the system and name this updated function **generate_MM1_v2**.\n",
    "\n",
    "**2)** For default arguments, check that their is good agreement between the histogram of times spent by users in the system and an exponential distribution $Exp(\\mu(1-\\rho))$. What can we conclude?"
   ]
  },
  {
   "cell_type": "markdown",
   "metadata": {},
   "source": [
    "### **Answer to question III-1** "
   ]
  },
  {
   "cell_type": "code",
   "execution_count": 7,
   "metadata": {},
   "outputs": [],
   "source": [
    "def generate_MM1_v2(λ = 4.,μ = 5.,N0 = 5,Tmax=200):\n",
    "    \"\"\"\n",
    "    function generate_MM1(λ = 4.,μ = 5.,n0 = 5,Tmax=200)\n",
    "    generates an MM1 file\n",
    "    INPUTS\n",
    "    ------\n",
    "    λ       : intensity of arrivals (default =4.)\n",
    "    μ       : intensity of departures (default = 5.)\n",
    "    N0      : initial state of the queue (default = 5)\n",
    "    Tmax    : duration of the observation (default = 200)\n",
    "    delays  : time spent by clients in the system\n",
    "    OUTPUTS\n",
    "    -------\n",
    "    ρ       : λ/μ\n",
    "    T       : list of time of events (arrivals or departures) over time interval [0,T]\n",
    "    N       : list of queue state (increases or decreases by one at each event time)\n",
    "    T_syst  : list of times spent by clients in the system\n",
    "    \"\"\"\n",
    "    ρ       = λ/μ\n",
    "    p       = λ/(μ+λ) # probability that an event is an arrival for queue > 0\n",
    "    tau     = 0          # initial instant\n",
    "    T       = [0]        # list of instants of events\n",
    "    N       = [N0]       # initial state of the queue, list of queue evolution\n",
    "    # stack of clients in the system with their entering times\n",
    "    # (set negative to -1 for clients already present at t=0):\n",
    "    system  = [-1 for k in range(N0)] \n",
    "    delays  = [] # times spent by users inside the system\n",
    "    \n",
    "    while T[-1]<Tmax:\n",
    "        if N[-1]==0:\n",
    "            # inter-events delay for empty buffer:\n",
    "            tau   = -1./λ*log(rand()) \n",
    "            event = 1\n",
    "        else:\n",
    "            # inter-events delay for non-empty buffer:\n",
    "            τ     = -1./(λ+μ)*log(rand()) \n",
    "            # event =+1 for an arrival, =-1 for a departure:\n",
    "            event = 2*(rand()<p)-1 \n",
    "        N = N + [N[-1]+event]\n",
    "        T = T + [T[-1]+τ]\n",
    "        #-------- New part of the code ----------\n",
    "        if event == 1:\n",
    "            # the time of entering client is recorded in \n",
    "            # system stack:\n",
    "            system.append(T[-1])\n",
    "        else:\n",
    "            # entry time of outing client:\n",
    "            T_in = system.pop(0)\n",
    "            ############################################\n",
    "            # if the client entered the system after t=0\n",
    "            # (T_in>0), we add the time he spent in the sytem \n",
    "            # to delays list \n",
    "            if T_in>0:\n",
    "                delays.append(T[-1] - T_in)\n",
    "            ############################################\n",
    "        #----------------------------------------\n",
    "\n",
    "    T      = T[:-1] # last event, after t_max, is discarded\n",
    "    N      = N[:-1]\n",
    "    return ρ,T,N,delays"
   ]
  },
  {
   "cell_type": "code",
   "execution_count": 8,
   "metadata": {},
   "outputs": [],
   "source": [
    "λ,μ           = 4.,5.\n",
    "ρ,T,N,delays  = generate_MM1_v2(λ=4.,μ=5.,Tmax=1e4)\n",
    "\n",
    "#----------------\n",
    "V4 = mean(delays)"
   ]
  },
  {
   "cell_type": "markdown",
   "metadata": {},
   "source": [
    "### **Answer to question III-2** \n",
    "\n",
    "Simulation shows that there is a very good agreement between the histogram computed from **generate_MM1_v2** and the distribution $Exp(\\mu(1-\\rho))$. Indeed, it can be proved that $Exp(\\mu(1-\\rho))$ is the distribution of the time spent by a client in the  $M/M/1$."
   ]
  },
  {
   "cell_type": "code",
   "execution_count": 9,
   "metadata": {
    "scrolled": true
   },
   "outputs": [
    {
     "name": "stdout",
     "output_type": "stream",
     "text": [
      "Time spent in the system:\n",
      "average of measured delays = 0.995\n",
      "theoretical average delay  =  1.000\n"
     ]
    },
    {
     "data": {
      "image/png": "[encoded data removed]",
      "text/plain": [
       "<Figure size 432x288 with 1 Axes>"
      ]
     },
     "metadata": {},
     "output_type": "display_data"
    }
   ],
   "source": [
    "#######################################################\n",
    "# parameter of the theoretical exponential distribution\n",
    "# of time spent by a client in the system:\n",
    "param = 1\n",
    "#######################################################\n",
    "\n",
    "# histogram and theoretical distribution:\n",
    "x = linspace(0,10,100)\n",
    "hist(delays,bins=100,density=True,label='delays histogram');\n",
    "plot(x,param*exp(-param*x),linewidth=2,color='r',\n",
    "                 label=r'$Exp(\\mu(1-\\rho))$ pdf')\n",
    "\n",
    "print(\"Time spent in the system:\")\n",
    "print(\"average of measured delays = {0:.3f}\".format(mean(delays)))\n",
    "print(\"theoretical average delay  =  {0:.3f}\".format(1/param))\n",
    "\n",
    "#--------\n",
    "V5 = param"
   ]
  },
  {
   "cell_type": "markdown",
   "metadata": {},
   "source": [
    "# Conclusion\n",
    "\n",
    "In this lab, we have seen how to simulate the $M/M/1$ queue and how parameters such as the number of clients in the system can be estimated from simulation. During the next two weeks, you will study into more details discrete time and continuous time Markov chains and acquire a deeper understanding of the ideas involved in the experiments that we carried out in this laboratory."
   ]
  },
  {
   "cell_type": "markdown",
   "metadata": {},
   "source": [
    "# Your answers for this notebook"
   ]
  },
  {
   "cell_type": "code",
   "execution_count": 10,
   "metadata": {},
   "outputs": [
    {
     "name": "stdout",
     "output_type": "stream",
     "text": [
      "---------------------------------------------------\n",
      "VALIDITY OF RESULTS SUPPLIED FOR WEEK II - Part II:\n",
      "---------------------------------------------------\n",
      "V1 :  OK\n",
      "V2 :  OK\n",
      "V3 :  OK\n",
      "V4 :  OK\n",
      "V5 :  OK\n"
     ]
    }
   ],
   "source": [
    "print(\"---------------------------------------------------\\n\"\n",
    "      +\"VALIDITY OF RESULTS SUPPLIED FOR WEEK II - Part II:\\n\"\n",
    "      +\"---------------------------------------------------\")\n",
    "results  = dict()\n",
    "for k in range(1,6):\n",
    "    results[\"V\"+str(k)] = \"NO\"\n",
    "    \n",
    "try: \n",
    "    if abs(V1)<.01:      results[\"V1\"] =  \"OK\"\n",
    "except: pass\n",
    "try: \n",
    "    if abs(V2)<.01:      results[\"V2\"] =  \"OK\"\n",
    "except: pass\n",
    "try: \n",
    "    if abs(V3-.92)<.02:  results[\"V3\"] =  \"OK\"\n",
    "except: pass\n",
    "try: \n",
    "    if abs(V4-1)<.05:    results[\"V4\"] =  \"OK\"\n",
    "except: pass\n",
    "try: \n",
    "    if abs(V5-1)<.01:    results[\"V5\"] =  \"OK\"\n",
    "except: pass\n",
    "\n",
    "for key,val in results.items():\n",
    "    print(key,': ',val)"
   ]
  },
  {
   "cell_type": "code",
   "execution_count": null,
   "metadata": {},
   "outputs": [],
   "source": []
  }
 ],
 "metadata": {
  "kernelspec": {
   "display_name": "Python 3",
   "language": "python",
   "name": "python3"
  },
  "language_info": {
   "codemirror_mode": {
    "name": "ipython",
    "version": 3
   },
   "file_extension": ".py",
   "mimetype": "text/x-python",
   "name": "python",
   "nbconvert_exporter": "python",
   "pygments_lexer": "ipython3",
   "version": "3.6.5"
  }
 },
 "nbformat": 4,
 "nbformat_minor": 1
}
