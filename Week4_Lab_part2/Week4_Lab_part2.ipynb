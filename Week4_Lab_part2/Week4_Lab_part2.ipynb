{
 "cells": [
  {
   "cell_type": "markdown",
   "metadata": {},
   "source": [
    "<p><font size=\"5\">  MOOC: Understanding queues</font></p>\n",
    "<p><font size=\"5\">  Python simulations</p>\n",
    "<p><font size=\"5\">  Week IV - Part II: Continuous time Markov chains</p></br>\n",
    "\n",
    "----------------------------"
   ]
  },
  {
   "cell_type": "markdown",
   "metadata": {},
   "source": [
    "# Introduction\n",
    "\n",
    "In this second part of the lab, we will consider a variation about the $M/M/1$ queue. In some situations the intensity of clients' arrivals $\\lambda$ is not constant. The Markov Modulated Poisson Process (MMPP) is sometimes used, in particular in the case of bursty arrivals. This leads to an $MMPP/M/1$ queue. We will see how this kind of model can be implemented.  \n",
    "\n",
    "------------"
   ]
  },
  {
   "cell_type": "markdown",
   "metadata": {},
   "source": [
    "# MMPP/M/1 queue"
   ]
  },
  {
   "cell_type": "markdown",
   "metadata": {},
   "source": [
    "There are situations where the intensity of clients' arrivals at a system is not constant. In what follows we are going to consider the case of Markov Modulated Poisson Process (MMPP) arrivals. \n",
    "\n",
    "A MMPP is a doubly stochastic Poisson process. The intensity $\\lambda(t)$ of arrivals is random and evolves according to a continuous time discrete state Markov chain. For example the arrival rate can take two different values $\\lambda_0$ and $\\lambda_1$ with $\\lambda_1 >> \\lambda_0$ so that $\\lambda(t) = \\lambda_1$ will correspond to a burst of arrivals. \n",
    "\n",
    "Assuming that the service time is exponentially distributed, $Exp(\\mu)$, that there is a single server, an infinite buffer and a FIFO policy, then the queuing model is $MMPP/M/1$.\n",
    "\n",
    "---"
   ]
  },
  {
   "cell_type": "markdown",
   "metadata": {},
   "source": [
    "In what follows, we are going to simulate a $MMPP/M/1$ queue where the intensity of arrivals is modelled by a two states, time continuous, Markov chain. We assume that the intensity $\\lambda(t)$ of arrivals has two states $\\lambda_0$ and $\\lambda_1$ ($\\lambda(t)\\in\\{\\lambda_0,\\lambda_1\\}$) and transition rate matrix :\n",
    "$$\n",
    "{\\bf Q} =\n",
    "\\begin{pmatrix}\n",
    "-\\alpha_0 & \\alpha_0\\\\\n",
    "\\alpha_1  & -\\alpha_1\n",
    "\\end{pmatrix}\n",
    "$$\n",
    "In what follows we will call \"Phase\" (PH) the state 0 or 1 of this Markov chain.\n",
    "\n",
    "**1)** Let $N(t)$ denote the number of clients in the system. Is $N(t)$ a continuous time Markov chain?\n",
    "\n",
    "\n",
    "**2)** Let us consider the pair $(N,PH)$. It is a continuous time Markov chain with states denoted by $(n,ph)$, where $n\\in\\mathbb{N}$ and $ph\\in\\{0,1\\}$. Then, the transition diagram of the $MMPP/M/1$ is given as follows:\n",
    "\n",
    "<img src=\"MMPPM1_v0.png\" height=200, width=300>\n",
    "\n",
    "Complete the transition diagram above with the intensities of possible transitions.\n",
    "\n",
    "**3)** Calculate the probabilities ${P_{(n,ph)\\rightarrow (n',ph')}}$\n",
    "to switch from state $(n,ph)$ to state $(n',ph')$.\n",
    "\n",
    "**4)** Complete the code of the **MMPPM1** function that simulates the $MMPP/M/1$ queue. \n",
    "Default parameters will be $(\\lambda_0,\\lambda_1)=(2,20)$, $(\\alpha_0,\\alpha_1)=(.2,2)$, $\\mu=5$.\n",
    "\n",
    "**5)** Plot a trajectory of the evolution of the number of clients in the system over $T=200$ time units. The state of arrivals intensity will be characterized by two different colors on the plot. \n",
    "\n",
    "**6)** Check on simulation that the proportion of time during which $PH=1$ is $\\dfrac{\\alpha_0}{\\alpha_0+\\alpha_1}$\n",
    "\n",
    "**7)** What is the steady state distribution of the phase PH? What is the mean arrival rate $\\overline{\\lambda}$?\n",
    "\n",
    "**8)** Consider an $M/M/1$ queue with service rate $\\mu$ and arrival rate $\\overline{\\lambda}$. What would be the mean sojourn time $R$ in that system?\n",
    "\n",
    "**9)** Complete the code of the **MMPPM1_v2** that records the sojourn times of clients. Compute the mean sojourn time observed. Compare it to that of the  $M/M/1$ queue considered in question 8). How do you explain this result? \n",
    "\n",
    "------------------------------"
   ]
  },
  {
   "cell_type": "markdown",
   "metadata": {},
   "source": [
    "### **Answer to question 1**\n",
    "\n",
    "$N(t)$ is not a continuous time Markov chain. Indeed, the arrival process is not memoryless. To understand this, assume that many arrivals occurred recently. This means that the phase is likely to be $1$, that is $\\lambda(t)=\\lambda_1$, and $N$ will probably increase rapidly in the next future.  The future values of $N$ do not depend on its current value $N(t)$ only but also on its past values."
   ]
  },
  {
   "cell_type": "markdown",
   "metadata": {},
   "source": [
    "### **Answer to question 2**\n",
    "\n",
    "<img src=\"MMPPM1.png\" height=200, width=300>"
   ]
  },
  {
   "cell_type": "markdown",
   "metadata": {},
   "source": [
    "### **Answer to question 3**\n",
    "\n",
    "Let us calculate the transition probabilities between states. From the transition diagram, the probabilities ${P_{(n,ph)\\rightarrow(n',ph')}}$\n",
    "to transit from state $(n,ph)$ to state $(n',ph')$ are as follows:\n",
    "\n",
    "$$\n",
    "\\begin{array}{ll}\n",
    "{P_{(0,0)\\rightarrow(0,1)}}&=\\frac{\\alpha_0}{\\alpha_0+\\lambda_0}\\\\\n",
    "P_{(0,0)\\rightarrow(1,0)}&=\\frac{\\lambda_0}{\\alpha_0+\\lambda_0}\\\\\n",
    "P_{(0,1)\\rightarrow(0,0)}&=\\frac{\\alpha_1}{\\alpha_1+\\lambda_1}\\\\\n",
    "P_{(0,1)\\rightarrow(1,1)}&=\\frac{\\lambda_1}{\\alpha_1+\\lambda_1}\\\\\n",
    "\\end{array}\n",
    "$$\n",
    "\n",
    "and for $n>0$,\n",
    "\n",
    "$$\n",
    "\\begin{array}{ll}\n",
    "{P_{(n,0)\\rightarrow(n-1,0)}}&=\\frac{\\mu}{\\alpha_0+\\lambda_0+\\mu}\\\\\n",
    "P_{(n,0)\\rightarrow(n,1)}&=\\frac{\\alpha_0}{\\alpha_0+\\lambda_0+\\mu}\\\\\n",
    "P_{(n,0)\\rightarrow(n+1,0)}&=\\frac{\\lambda_0}{\\alpha_0+\\lambda_0+\\mu}\\\\\n",
    "P_{(n,1)\\rightarrow(n-1,0)}&=\\frac{\\mu}{\\alpha_1+\\lambda_1+\\mu}\\\\\n",
    "P_{(n,1)\\rightarrow(n,0)}&=\\frac{\\alpha_1}{\\alpha_1+\\lambda_1+\\mu}\\\\\n",
    "P_{(n,1)\\rightarrow(n+1,1)}&=\\frac{\\lambda_1}{\\alpha_1+\\lambda_1+\\mu}\n",
    "\\end{array}\n",
    "$$"
   ]
  },
  {
   "cell_type": "markdown",
   "metadata": {},
   "source": [
    "### **Answer to question 4**\n",
    "\n",
    "The **MMPPM1** function that simulates the $MMPP/M/1$ queue as given below, where states are given by tuples $(n,ph)$ is given in the following code:"
   ]
  },
  {
   "cell_type": "code",
   "execution_count": 1,
   "metadata": {},
   "outputs": [],
   "source": [
    "%matplotlib inline\n",
    "from pylab import *"
   ]
  },
  {
   "cell_type": "code",
   "execution_count": 2,
   "metadata": {},
   "outputs": [],
   "source": [
    "λ0 = 2.\n",
    "λ1 = 20.\n",
    "α0 = .2\n",
    "α1 = 2.\n",
    "μ  = 5.\n",
    "\n",
    "def MMPPM1(x0 = (0,0),Tmax=200):\n",
    "    ######################################\n",
    "    # supply the rates r0 and r1 in the code below\n",
    "    # r0 is the rate of exit from state (0,0)\n",
    "    # r0 is the rate of exit from state (0,1)\n",
    "    global r0,r1\n",
    "    r0 = λ0 + α0\n",
    "    r1 = λ1 + α1\n",
    "    ######################################\n",
    "    T        = [0]  # list of instants of events \n",
    "                    # (arrivals,departures, change of phase)\n",
    "    X        = [x0] # initial state of the system, list of state evolutions\n",
    "    while T[-1]<Tmax:\n",
    "        n,ph  = X[-1]\n",
    "        # Probabilities to move up/down/left/right in the transition diagram:\n",
    "        # given by Pu/Pd/Pl/Pr\n",
    "        if ph==0: \n",
    "            Pu = 0\n",
    "            if n==0: \n",
    "                rate     = r0  # rate of events\n",
    "                Pl,Pd,Pr = 0,α0/rate,λ0/rate\n",
    "            else:\n",
    "                rate     = r0+μ\n",
    "                Pl,Pd,Pr = μ/rate,α0/rate,λ0/rate\n",
    "        else: #(ph==1)\n",
    "            Pd = 0\n",
    "            if n==0: \n",
    "                rate     = r1\n",
    "                Pl,Pu,Pr = 0,α1/rate,λ1/rate\n",
    "            else:\n",
    "                rate     = r1+μ\n",
    "                Pl,Pu,Pr = μ/rate,α1/rate,λ1/rate\n",
    "            \n",
    "        # generating the date of a new event\n",
    "        T   = T + [T[-1]+(-1./rate)*log(rand(1))]\n",
    "        # generating move\n",
    "        x   = rand(1)\n",
    "        if   x<Pu:             ph-=1  # move up\n",
    "        elif Pu<x<Pu+Pd:       ph+=1  # move down\n",
    "        elif Pu+Pd<x<Pu+Pd+Pl: n-=1  # move left\n",
    "        else:                  n+=1  # move right\n",
    "        X   = X +[(n,ph)]\n",
    "\n",
    "    T    = array(T[:-1]) # event after Tmax is discarded\n",
    "    X    = array(X[:-1])\n",
    "    return T,X\n",
    "\n",
    "#-------------\n",
    "MMPPM1(x0 = (0,0),Tmax=200)\n",
    "V1,V2 = r0, r1"
   ]
  },
  {
   "cell_type": "markdown",
   "metadata": {},
   "source": [
    "\n",
    "### **Answer to question 5**"
   ]
  },
  {
   "cell_type": "code",
   "execution_count": 3,
   "metadata": {},
   "outputs": [
    {
     "data": {
      "text/plain": [
       "Text(0,0.5,'number of clients')"
      ]
     },
     "execution_count": 3,
     "metadata": {},
     "output_type": "execute_result"
    },
    {
     "data": {
      "image/png": "[encoded data removed]",
      "text/plain": [
       "<Figure size 1080x360 with 1 Axes>"
      ]
     },
     "metadata": {},
     "output_type": "display_data"
    }
   ],
   "source": [
    "T,X = MMPPM1()\n",
    "\n",
    "rcParams['figure.figsize'] = 15, 5\n",
    "for index,t in enumerate(T):\n",
    "    if X[index][1] == 0:\n",
    "        plot(t,X[index][0],'b.')\n",
    "    else:\n",
    "        plot(t,X[index][0],'r.')\n",
    "xlabel('time')\n",
    "ylabel('number of clients')"
   ]
  },
  {
   "cell_type": "markdown",
   "metadata": {},
   "source": [
    "When $k=1$, the number of users in the system increases rapidly since $\\lambda_1>>\\mu$. When $k$ returns to 0, the number of users in the system progressively returns to the behavior of a stable $M/M/1$ since $\\lambda_0<\\mu$."
   ]
  },
  {
   "cell_type": "markdown",
   "metadata": {},
   "source": [
    "### **Answer to question 6**\n",
    "\n",
    "\n",
    "We check that the estimated probability of $PH=1$ is $\\dfrac{\\alpha_0}{\\alpha_0+\\alpha_1}$."
   ]
  },
  {
   "cell_type": "code",
   "execution_count": 4,
   "metadata": {},
   "outputs": [
    {
     "name": "stdout",
     "output_type": "stream",
     "text": [
      "Estimated probability that $PH=1$ = 0.091\n",
      "P(PH=1) = 0.091\n"
     ]
    }
   ],
   "source": [
    "T,X = MMPPM1(Tmax=1000) # should be higher, but does not finish executing if too big\n",
    "\n",
    "P_est = sum((T[1:]-T[:-1])*(X[:-1][:,1]==1))/T[-1]\n",
    "print(('Estimated probability that $PH=1$ = {0:1.3f}\\n'+\n",
    "       'P(PH=1) = {1:1.3f}')\n",
    "      .format(P_est,α0/(α0+α1)))"
   ]
  },
  {
   "cell_type": "markdown",
   "metadata": {},
   "source": [
    "### **Answer to question 7**\n",
    "\n",
    "The steady state distribution of $PH$ is given by $P(PH=0)=\\dfrac{\\alpha_1}{\\alpha_0+\\alpha_1}$ and $P(PH=1)=\\dfrac{\\alpha_0}{\\alpha_0+\\alpha_1}$. \n",
    "\n",
    "Thus, the average arrival rate is \n",
    "\n",
    "$$\n",
    "\\overline{\\lambda}=P(PH=0)\\lambda_0+P(PH=1)\\lambda_1= \\dfrac{\\alpha_1\\lambda_0+\\alpha_0\\lambda_1}{\\alpha_0+\\alpha_1}.\n",
    "$$ "
   ]
  },
  {
   "cell_type": "markdown",
   "metadata": {},
   "source": [
    "### **Answer to question 8**\n",
    "\n",
    "The mean sojourn time of the $M/M/1$ would be $\\dfrac{1}{\\mu-\\overline{\\lambda}}= \\dfrac{1}{\\mu}\\dfrac{1}{1-\\rho}$, with $\\rho=\\dfrac{\\overline{\\lambda}}{\\mu}$. "
   ]
  },
  {
   "cell_type": "code",
   "execution_count": 5,
   "metadata": {},
   "outputs": [
    {
     "data": {
      "text/plain": [
       "(3.6363636363636362, 0.7333333333333334)"
      ]
     },
     "execution_count": 5,
     "metadata": {},
     "output_type": "execute_result"
    }
   ],
   "source": [
    "###########\n",
    "# supply the mean rate of arrivals in the MMPP/M/1\n",
    "λm    = (α1 * λ0 + α0 * λ1) / (α0 + α1)\n",
    "###########\n",
    "\n",
    "###########\n",
    "# supply the mean sojourn time for the M/M/1 with arrival rate λm\n",
    "rho = λm / μ\n",
    "R_MM1 = 1 / (μ * (1 - rho)) \n",
    "###########\n",
    "\n",
    "#---\n",
    "V3,V4 = λm, R_MM1\n",
    "V3,V4"
   ]
  },
  {
   "cell_type": "markdown",
   "metadata": {},
   "source": [
    "### **Answer to question 9**"
   ]
  },
  {
   "cell_type": "code",
   "execution_count": 6,
   "metadata": {},
   "outputs": [],
   "source": [
    "def MMPPM1_v2(x0=(0,0),Tmax=200):\n",
    "    r0 = α0+λ0 # rate of exit from state (0,0)\n",
    "    r1 = α1+λ1 # rate of exit from state (0,1)\n",
    "    T  = [0]   # list of instants of events \n",
    "               # (arrivals,departures, change of phase)\n",
    "    X  = [x0]  # initial state of the system, \n",
    "               # list of state evolutions\n",
    "    arrival_times = [-1 for k in range(x0[0])]  # arrival times \n",
    "    # of clients in the system; Sojourn times of clients present at t=0 \n",
    "    # in the system will not be evaluated.\n",
    "    # Their arrival times are arbitrarily set to -1.\n",
    "    D  = []    # delays: times spent by users inside the system\n",
    "    while T[-1]<Tmax:\n",
    "        n,ph  = X[-1]\n",
    "        # Probabilities to move up/down/left/right in the transition diagram:\n",
    "        # given by Pu/Pd/Pl/Pr\n",
    "        if ph==0: \n",
    "            Pu = 0\n",
    "            if n==0: \n",
    "                rate     = r0  # rate of events\n",
    "                Pl,Pd,Pr = 0,α0/rate,λ0/rate\n",
    "            else:\n",
    "                rate     = r0+μ\n",
    "                Pl,Pd,Pr = μ/rate,α0/rate,λ0/rate\n",
    "        else: #(ph==1)\n",
    "            Pd = 0\n",
    "            if n==0: \n",
    "                rate     = r1\n",
    "                Pl,Pu,Pr = 0,α1/rate,λ1/rate\n",
    "            else:\n",
    "                rate     = r1+μ\n",
    "                Pl,Pu,Pr = μ/rate,α1/rate,λ1/rate\n",
    "            \n",
    "        # generating the date of a new change of state\n",
    "        T     = T + [T[-1]+(-1./rate)*log(rand(1))]\n",
    "        # generating move\n",
    "        x     = rand(1)\n",
    "        entry = 0 # type of change (+1:arrival, -1: departure, 0: change of phase)\n",
    "        if   x<Pu:             ph-=1  # move up\n",
    "        elif Pu<x<Pu+Pd:       ph+=1  # move down\n",
    "        elif Pu+Pd<x<Pu+Pd+Pl:        # move left\n",
    "            n    -= 1  \n",
    "            entry = -1                # departure\n",
    "        else:                         # move right\n",
    "            n    += 1  \n",
    "            entry = 1                 # arrival\n",
    "        X   = X +[(n,ph)]\n",
    "        #-------- New part of the code ----------------------\n",
    "        #  (see also part 2 of lab 1)\n",
    "        if entry == 1: # arrival\n",
    "            # the time of entering client is recorded in \n",
    "            # the arrival_times FIFO (First In - First Out) stack:\n",
    "            arrival_times.append(T[-1])\n",
    "        elif entry == -1: # departure\n",
    "            # arrival time T_in of the client going out of the system.\n",
    "            # T_in is extracted from the arrival_times FIFO stack:\n",
    "            T_in = arrival_times.pop(0)\n",
    "            ############################################\n",
    "            # if the client entered the system after t=0\n",
    "            # (T_in>0), we add the time he spent in the sytem \n",
    "            # to delays list \n",
    "            if T_in>0:\n",
    "                D.append(T[-1] - T_in)\n",
    "            ############################################\n",
    "        #-----------------------------------------------------\n",
    "        \n",
    "    T    = array(T[:-1]) # event after Tmax is discarded\n",
    "    X    = array(X[:-1])   \n",
    "    return T,X,D"
   ]
  },
  {
   "cell_type": "code",
   "execution_count": 7,
   "metadata": {},
   "outputs": [],
   "source": [
    "T,X,D = MMPPM1_v2(Tmax=200)"
   ]
  },
  {
   "cell_type": "code",
   "execution_count": 8,
   "metadata": {},
   "outputs": [
    {
     "data": {
      "text/plain": [
       "3.7417091945479077"
      ]
     },
     "execution_count": 8,
     "metadata": {},
     "output_type": "execute_result"
    }
   ],
   "source": [
    "mean(D)"
   ]
  },
  {
   "cell_type": "code",
   "execution_count": 9,
   "metadata": {},
   "outputs": [
    {
     "data": {
      "text/latex": [
       "Mean delay for $M/M/1$ with arrivals at rate $\\overline{\\lambda}=1/(\\mu-\\overline{\\lambda})$=0.73"
      ]
     },
     "metadata": {},
     "output_type": "display_data"
    },
    {
     "data": {
      "text/latex": [
       "Mean delay for $MMPP/M/1$ = 3.742"
      ]
     },
     "metadata": {},
     "output_type": "display_data"
    }
   ],
   "source": [
    "import IPython.core.display as disp\n",
    "\n",
    "disp.display_latex(r'Mean delay for $M/M/1$ with arrivals at rate '\n",
    "                +r'$\\overline{\\lambda}=1/(\\mu-\\overline{\\lambda})$'\n",
    "                +'={0:.2f}'.format(R_MM1),raw=True)\n",
    "####################\n",
    "# Supply the estimated value for the mean sojourn time\n",
    "# in the MMPP/M/1\n",
    "R_MMMPPM1 = mean(D)\n",
    "####################\n",
    "disp.display_latex('Mean delay for $MMPP/M/1$ = {0:.3f}'\n",
    "                   .format(R_MMMPPM1),raw=True)\n",
    "#----\n",
    "V5 = R_MMMPPM1"
   ]
  },
  {
   "cell_type": "markdown",
   "metadata": {},
   "source": [
    "We note that the mean sojourn time is much higher with the $MMPP/M/1$ than with the corresponding $M/M/1$. This is because with the $MMPP/M/1$ clients arriving when $\\lambda(t)=\\lambda_1$ are likely to wait for long before being served. This corresponds to every day life where we experience longer waiting at a desk where most people arrive during short periods of time (the period during which we generally also arrive ourselves) than at a desk where people arrive at regular rate, despite the fact that at the end of the day both desks will have served the same number of clients."
   ]
  },
  {
   "cell_type": "markdown",
   "metadata": {},
   "source": [
    "# Conclusion\n",
    "\n",
    "In this part of the lab we have seen that for non Poisson arrival process more complex arrival mechanisms sometimes boil down to time continuous Markov chains via MMPP model represention. Note that the same would also apply to describe some service processes.\n",
    "\n",
    "As far as simulation is concerned, we have seen that the code used to simulate the $MMPP/M/1$ can be derived by adapting the one developped for the $M/M/1$ in the lab of the second week.\n",
    "In the lab of the next week, we will continue enriching our simulation toolbox by simulating multiserver systems.\n",
    "\n",
    "----------------------------------"
   ]
  },
  {
   "cell_type": "markdown",
   "metadata": {},
   "source": [
    "### Note\n",
    "\n",
    "We did not study the stationary distribution $MMPP/M/1$ queue that is a bit more complex than the targeted level of this course. However, for interested readers with enough background in matrix computation, let us note that the generator matrix ${\\bf \\tilde{Q}}$ of the $MMPP/M/1$ can be defined with entry $[{\\bf \\tilde{Q}}]_{2n+ph,2n'+ph'}$ representing the transition rate from state $(n,ph)$ to state $(n',ph')$. This amounts to class states $(n,ph)$ in ${\\bf \\tilde{Q}}$ with lexicographical order. Then, it can be checked that ${\\bf \\tilde{Q}}$ is made of $2\\times 2$ matrix blocks. More specificaly, ${\\bf \\tilde{Q}}$ is block tridiagonal, with blocks in the form\n",
    "\n",
    "$$\n",
    "{\\bf \\tilde{Q}} =\n",
    "\\begin{pmatrix}\n",
    "{\\bf D_0} & {\\bf U_1} &&& \\\\\n",
    "{\\bf L_1}      & {\\bf D_1} & {\\bf U_1} && \\\\\n",
    "         & {\\bf L_1}             & {\\bf D_1} & {\\bf U_1} & \\\\\n",
    "         &                 & \\ddots       & \\ddots & \\ddots\n",
    "\\end{pmatrix}\n",
    "$$\n",
    "\n",
    "and diagonal, upper and lower blocks given by\n",
    "\n",
    "$$\n",
    "{\\bf D_0} =\n",
    "\\begin{pmatrix}\n",
    "-(\\alpha_0+\\lambda_0) & \\alpha_0 \\\\\n",
    "\\alpha_1 & -(\\alpha_1+\\lambda_1)\n",
    "\\end{pmatrix}\n",
    ",\\quad\n",
    "{\\bf D_1} =\n",
    "\\begin{pmatrix}\n",
    "-(\\alpha_0+\\lambda_0+\\mu) & \\alpha_0 \\\\\n",
    "\\alpha_1 & -(\\alpha_1+\\lambda_1+\\mu)\n",
    "\\end{pmatrix}\n",
    ",\\quad\\\\\n",
    "{\\bf U_1} =\n",
    "\\begin{pmatrix}\n",
    "\\lambda_0 & 0 \\\\\n",
    "0 & \\lambda_1\n",
    "\\end{pmatrix}\n",
    ",\\quad\n",
    "{\\bf L_1} =\n",
    "\\begin{pmatrix}\n",
    "\\mu & 0 \\\\\n",
    "0 & \\mu\n",
    "\\end{pmatrix}.\n",
    "$$\n",
    "\n",
    "Then, letting \n",
    "\n",
    "$$\n",
    "(x_0,x_1,\\ldots,x_n,\\ldots)=(\\pi_{(0,0)},\\pi_{(0,1)},\\pi_{(1,0)},\\pi_{(1,1)},\\ldots,\\pi_{(n,0)},\\pi_{(n,1)},\\ldots)\n",
    "$$ \n",
    "\n",
    "denote the steady state distribution of the system, where $x_n=(\\pi_{(n,0)},\\pi_{(n,1)})$, it comes that\n",
    "\n",
    "$$\n",
    "\\begin{array}{lrl}\n",
    "    &x_0{\\bf D_0}+x_1{\\bf L_1} &=0\\\\\n",
    "n>0:&x_{n-1}{\\bf U_1}+x_n{\\bf D_1}+x_{n+1}{\\bf L_1}&=0.\n",
    "\\end{array}\n",
    "$$\n",
    "\n",
    "The solution of this problem resorts to solving a matrix difference equation problem (https://en.wikipedia.org/wiki/Matrix_difference_equation) and is (in general) in the form $x_n=x_0{\\bf R}^n$, where ${\\bf R}$ satisfies equations ${\\bf D_0}+{\\bf R L_1} =0$ and ${\\bf U_1}+{\\bf R D_1}+{\\bf R^2L_1}=0$ and $x_0({\\bf I-R})^{-1}\\begin{pmatrix}1\\\\1\\end{pmatrix}$=1 (which expresses the normalization condition $\\sum_{k=0,1;n\\geq 0}\\pi_{(k,n)}=1$). However, this is beyond the scope of the MOOC. "
   ]
  },
  {
   "cell_type": "markdown",
   "metadata": {},
   "source": [
    "# Your answers for this notebook"
   ]
  },
  {
   "cell_type": "code",
   "execution_count": 10,
   "metadata": {},
   "outputs": [
    {
     "name": "stdout",
     "output_type": "stream",
     "text": [
      "---------------------------------------------------\n",
      "VALIDITY OF RESULTS SUPPLIED FOR WEEK IV - Part II:\n",
      "---------------------------------------------------\n",
      "V1 :  OK\n",
      "V2 :  OK\n",
      "V3 :  OK\n",
      "V4 :  OK\n",
      "V5 :  OK\n"
     ]
    }
   ],
   "source": [
    "print(\"---------------------------------------------------\\n\"\n",
    "      +\"VALIDITY OF RESULTS SUPPLIED FOR WEEK IV - Part II:\\n\"\n",
    "      +\"---------------------------------------------------\")\n",
    "results  = dict()\n",
    "for k in range(1,6):\n",
    "    results[\"V\"+str(k)] = \"NO\"\n",
    "    \n",
    "try: \n",
    "    if abs(V1-2.2)<.0001:  results[\"V1\"] =  \"OK\"\n",
    "except: pass\n",
    "try: \n",
    "    if abs(V2-22.)<.0001:  results[\"V2\"] =  \"OK\"\n",
    "except: pass\n",
    "try: \n",
    "    if abs(V3-3.636)<.001: results[\"V3\"] =  \"OK\"\n",
    "except: pass\n",
    "try: \n",
    "    if abs(V4-.733)<.001:  results[\"V4\"] =  \"OK\"\n",
    "except: pass\n",
    "try: \n",
    "    if V5>1:               results[\"V5\"] =  \"OK\"\n",
    "except: pass\n",
    "\n",
    "for key,val in results.items():\n",
    "    print(key,': ',val)"
   ]
  },
  {
   "cell_type": "code",
   "execution_count": null,
   "metadata": {},
   "outputs": [],
   "source": []
  }
 ],
 "metadata": {
  "kernelspec": {
   "display_name": "Python 3",
   "language": "python",
   "name": "python3"
  },
  "language_info": {
   "codemirror_mode": {
    "name": "ipython",
    "version": 3
   },
   "file_extension": ".py",
   "mimetype": "text/x-python",
   "name": "python",
   "nbconvert_exporter": "python",
   "pygments_lexer": "ipython3",
   "version": "3.6.5"
  }
 },
 "nbformat": 4,
 "nbformat_minor": 1
}
