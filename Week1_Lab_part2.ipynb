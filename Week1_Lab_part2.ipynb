{
 "cells": [
  {
   "cell_type": "markdown",
   "metadata": {},
   "source": [
    "\n",
    "<CENTER>\n",
    "<p><font size=\"5\">  Queuing theory: from Markov chains to multiserver systems</font></p>\n",
    "<p><font size=\"5\">  Python Labs </p>\n",
    "<p><font size=\"5\">  Week I - Part II: simulation of random variables</p>\n",
    "</CENTER>\n",
    "\n",
    "----------------------------"
   ]
  },
  {
   "cell_type": "markdown",
   "metadata": {},
   "source": [
    "As mentioned in the introduction of the labs, part 2 of the labs is intended to learners who want to get further insight into the subjects studied in the MOOC. Although you will not get additional credits for them, depending on the time you can afford for the MOOC, we invite you to consider them and contribute to the related discussions on the forum. \n",
    "\n",
    "# Week 1: lab, part 2\n",
    "\n",
    "In this second part of the lab, we are going to emphasize some aspects of simulation of exponential and Poisson random variables. \n",
    "\n",
    "In the **first exercice** we consider the squared [coefficient of variation](https://en.wikipedia.org/wiki/Coefficient_of_variation) of exponential distributions. The **second exercice** is devoted to plotting histograms and further properties of the exponential distribution. The **third exercice** introduces the connection between exponential and  Poisson distributions. \n",
    "\n",
    "------------------\n"
   ]
  },
  {
   "cell_type": "markdown",
   "metadata": {},
   "source": [
    "## I - Squared coefficient of variation of exponential random variables\n",
    "\n",
    "\n",
    "We will use the [*Statistics* sublibrary of *Scipy*](https://docs.scipy.org/doc/scipy/reference/stats.html) to draw samples of an $Exp(\\lambda)$ distribution.\n",
    "\n",
    "**1)**\n",
    "Calculate the mean $\\mu$, variance $\\sigma^2$ and squared [coefficient of variation](https://en.wikipedia.org/wiki/Coefficient_of_variation)  $cv^2=\\sigma^2/\\mu^2$ of an $Exp(\\lambda)$ distribution. Draw $N=10^6$ samples of an $Exp(\\lambda)$ distribution, for $\\lambda=0.5$, 1 and 2. Compute the sample estimates of $\\mu$, $\\sigma^2$ and $cv^2$. What do you notice? \n",
    "\n",
    "**2)**\n",
    "Generate $N$ samples of a uniform distribution on $[0,1]$. Check that this data could very unlikely represent realizations of an exponential random variable."
   ]
  },
  {
   "cell_type": "code",
   "execution_count": 1,
   "metadata": {},
   "outputs": [],
   "source": [
    "%matplotlib inline              \n",
    "from pylab import *   "
   ]
  },
  {
   "cell_type": "markdown",
   "metadata": {},
   "source": [
    "### **Answer to question I-1** "
   ]
  },
  {
   "cell_type": "code",
   "execution_count": 2,
   "metadata": {},
   "outputs": [
    {
     "name": "stdout",
     "output_type": "stream",
     "text": [
      "λ=0.5: m=2.00, σ²=4.00, cv²=1.00\n",
      "λ=1.0: m=1.00, σ²=1.01, cv²=1.00\n",
      "λ=2.0: m=0.50, σ²=0.25, cv²=1.00\n"
     ]
    }
   ],
   "source": [
    "from scipy.stats import expon\n",
    "\n",
    "N  = 10**6\n",
    "λs = (.5,1.0,2.0)\n",
    "for λ in λs:\n",
    "    ########################################\n",
    "    # Supply scale parameter for function expon.rvs \n",
    "    # for documenation of expon.rvs , see doc at \n",
    "    # https://docs.scipy.org/doc/scipy-0.16.0/reference/generated/scipy.stats.expon.html\n",
    "    scale = 1 / λ\n",
    "    data  = expon.rvs(scale=scale, size=N)   # simulation of a size N sample\n",
    "    ########################################\n",
    "    μ      = mean(data)\n",
    "    σ2     = var(data)\n",
    "    ########################################\n",
    "    # Supply the expression coefficient of variation herein below\n",
    "    cv2   = σ2/μ/μ\n",
    "    ########################################\n",
    "    print(\"\\u03BB={0}: m={1:1.2f}, \\u03C3\\u00B2={2:1.2f}, cv\\u00B2={3:1.2f}\"\n",
    "          .format(λ,μ,σ2,cv2))  #\\u... for unicode caracters\n",
    "    # note : unicode tables can be found at https://unicode-table.com/en/\n",
    "\n",
    "#----------\n",
    "V1 = cv2\n",
    "V2 = scale"
   ]
  },
  {
   "cell_type": "markdown",
   "metadata": {},
   "source": [
    "### **Answer to question I-2** "
   ]
  },
  {
   "cell_type": "code",
   "execution_count": 3,
   "metadata": {},
   "outputs": [
    {
     "name": "stdout",
     "output_type": "stream",
     "text": [
      "Uniform distribution over [0,1]\n",
      "m=0.50, σ²=0.08, cv²=0.33\n"
     ]
    }
   ],
   "source": [
    "N = 10**6\n",
    "########################################\n",
    "# generate a sample of IID uniformly distributed \n",
    "# random variables over [0,1]\n",
    "data = rand(N)  \n",
    "########################################\n",
    "\n",
    "μ      = mean(data)\n",
    "σ2     = var(data)\n",
    "cv2  = σ2/μ**2\n",
    "print('Uniform distribution over [0,1]')\n",
    "print(\"m={0:1.2f}, \\u03C3\\u00B2={1:1.2f}, cv\\u00B2={2:1.2f}\"\n",
    "          .format(μ,σ2,cv2))\n",
    "\n",
    "#--------\n",
    "V3 = cv2"
   ]
  },
  {
   "cell_type": "markdown",
   "metadata": {},
   "source": [
    "## II - Histograms and further properties of the exponential distribution"
   ]
  },
  {
   "cell_type": "markdown",
   "metadata": {},
   "source": [
    "### 1 -  Simulation of an exponential distribution\n",
    "\n",
    "> - **1)** Write a function that draws samples from an exponential distribution, with arguments $\\lambda$ and the sample size.\n",
    "> - **2)** Generate $N=10^6$ samples of an exponential distribution $Exp(\\lambda)$ with parameter $\\lambda=0.5$, and plot the corresponding histogram, together with the probability density function (**pdf**) of the distribution. Check that the histogram matches well the pdf. \n",
    "\n",
    "### 2 - Memoryless property of the exponential distribution\n",
    "\n",
    "> - **1)** Calculate the pdf of an $Exp(\\lambda)$ random variable $X$ given that $X\\geq x_0$ and check that it is given by the pdf $p_{_{X\\geq x_0}}(x)=\\lambda e^{-\\lambda (x-x_0)}{\\bf 1}_{[x_0,\\infty[}(x)$. The exponential distribution is memoryless, what does that mean?\n",
    "> - **2)** Check this result for the samples drawn in section **II-1** and $x_0=2$, by comparing the theoretical $p_{_{X\\geq x_0}}(x)$ and the conditional histogram.\n",
    "\n",
    "### 3 - Exponentially distributed delays between independent events\n",
    "\n",
    "We assume that $N$ events (for instance arrivals of clients at a counter) are observed during a period of time $T$. Events are assumed to be independent with uniform distribution  over the elapsed time interval.\n",
    "\n",
    "> - **1)**  Calculate the distribution of events inter-arrivals. To this end, calculate the probability that no event occurs during a fixed time interval $t$. Then, noting $\\lambda=N/T$, show that the distribution of events inter-arrivals tends to be $Exp(\\lambda)$ as $N$ and $T$ go to infinity, with a constant ratio  $\\lambda$. \n",
    "> - **2)** To check this result, plot the histogram of events inter-arrivals for $N=10^5$ events over a duration $T=5.10^3$ hours and check that they are exponentially distributed by using a [Q-Q plot](https://en.wikipedia.org/wiki/Q%E2%80%93Q_plot).\n",
    "\n",
    "--------------------"
   ]
  },
  {
   "cell_type": "markdown",
   "metadata": {},
   "source": [
    "### **Answer to question II-1-1**"
   ]
  },
  {
   "cell_type": "code",
   "execution_count": 4,
   "metadata": {},
   "outputs": [],
   "source": [
    "def exp_samples(λ=1,n=1):\n",
    "    \"\"\"\n",
    "    generates a numpy array of n samples distributed according to\n",
    "    an exponential distribution with parameter λ\n",
    "    \"\"\"\n",
    "    return (-1/λ)*log(rand(n))"
   ]
  },
  {
   "cell_type": "markdown",
   "metadata": {},
   "source": [
    "### **Answer to question II-1-2**"
   ]
  },
  {
   "cell_type": "code",
   "execution_count": 5,
   "metadata": {},
   "outputs": [
    {
     "data": {
      "image/png": "[encoded data removed]",
      "text/plain": [
       "<Figure size 432x288 with 1 Axes>"
      ]
     },
     "metadata": {},
     "output_type": "display_data"
    }
   ],
   "source": [
    "λ       = .5\n",
    "n       = 10**6\n",
    "samples = exp_samples(λ=λ,n=n)\n",
    "hist(samples,bins=100,density=True,label='samples histogram');\n",
    "x = linspace(0,15,100)\n",
    "plot(x,λ*exp(-λ*x),linewidth=2,color='r',\n",
    "                 label=r'$Exp(\\lambda)$ pdf')\n",
    "\"\"\"\n",
    "# equivalently, we can use the pdf supplied in Scipy.stats:\n",
    "from scipy.stats import expon\n",
    "plot(x,expon.pdf(x,scale=1./λ),linewidth=2,color='r',\n",
    "                 label=r'$Exp(\\lambda)$ pdf, with $\\lambda=.5$')\n",
    "\"\"\"\n",
    "\n",
    "axis(xmax=15)\n",
    "title(r'Histogram of exponentially distributed samples ($\\lambda=.5$)')\n",
    "legend();"
   ]
  },
  {
   "cell_type": "markdown",
   "metadata": {},
   "source": [
    "### Answer to questions II-2-1 and II-2-2"
   ]
  },
  {
   "cell_type": "markdown",
   "metadata": {},
   "source": [
    "Let $p_{_{X\\geq x_0}}(x)$ denote the pdf of an $Exp(\\lambda)$ random variable $X$ given that $X> x_0$. We assume that $x \\geq x_0$ since if $x < x_0$ the the conditional pdf is obviously equal to 0.\n",
    "\n",
    "Let $P(A|B)=\\dfrac{P(A\\cap B)}{P(B)}$ denote the probability of $A$ given $B$, the cumulative function of $X$ given that $X\\geq x_0$ is \n",
    "\n",
    "$$\n",
    "\\begin{array}{ll}\n",
    "F_{_{X\\geq x_0}}(x) &= P(X\\leq x\\; |\\; X\\geq x_0) = 1-P(X>x\\; |\\; X \\geq x_0) \\\\\n",
    "&= 1 - \\dfrac{P(X>x,X\\geq x_0)}{P(X\\geq x_0)} = 1 - \\dfrac{P(X\\geq x)}{P(X\\geq x_0)}  \\\\\n",
    "& = 1 - \\dfrac{e^{-\\lambda x}}{e^{-\\lambda x_0}} = (1-e^{-\\lambda(x-x_0)}){\\bf 1}_{[x_0,\\infty[}(x)\n",
    "\\end{array}\n",
    "$$\n",
    "\n",
    "<!--Note that the first equality in relation $P(X>x,X\\geq x_0)=P(X\\geq x,X\\geq x_0)$ $=P(X\\geq\\max(x,x_0))$ is valid because $X$ is an absolutly continuous random variable, that is, its distribution has no mass point. -->\n",
    "\n",
    "Thus $p_{_{X\\geq x_0}}(x)=\\dfrac{d}{dx}\\left[\n",
    "(1-e^{-\\lambda(x-x_0)}){\\bf 1}_{[x_0,\\infty[}(x)\\right] = \\lambda e^{-\\lambda(x-x_0)}){\\bf 1}_{[x_0,\\infty[}(x)$. \n",
    "\n",
    "So, given that $X\\geq x_0$, the distribution of $X-x_0$ follows an $Exp(\\lambda)$ distribution. If $X$ denotes the instant some event occurs, it appears that whatsoever the elapsed time $x_0$, if the event did not occur yiet, the remaining time before it still follows an $Exp(\\lambda)$ distribution and is thus independent on $x_0$. Hence the memoryless property of the exponential distribution. \n",
    "\n",
    "We check that histogram fits well the pdf $p_{_{X\\geq x_0}}$."
   ]
  },
  {
   "cell_type": "code",
   "execution_count": 6,
   "metadata": {},
   "outputs": [
    {
     "data": {
      "image/png": "[encoded data removed]",
      "text/plain": [
       "<Figure size 432x288 with 1 Axes>"
      ]
     },
     "metadata": {},
     "output_type": "display_data"
    }
   ],
   "source": [
    "λ       = .5\n",
    "n       = 10**6\n",
    "samples = exp_samples(λ=λ,n=n)\n",
    "x0      = 2\n",
    "# We only keep samples x obtained given that x>x0:\n",
    "sensored_samples = samples[samples>2]\n",
    "hist(sensored_samples,bins=100,density=True,label='samples histogram');\n",
    "x = linspace(0,15,500)\n",
    "# We check that the pdf of the exponential distribution with offset x0\n",
    "# fits well the periodogram of sensored sample\n",
    "plot(x,λ*exp(-λ*(x-x0))*(x>=x0),linewidth=2,color='r',\n",
    "     label=r'$Exp(\\lambda)$ pdf, with $\\lambda=.5$ and offset $x_0=2$')\n",
    "title(('Histogram of $X\\sim Exp(\\lambda)$ conditionally to $X>x_0$'\n",
    "        +'( $\\lambda$=.5,$x_0$=2)'))\n",
    "axis(xmin=0,xmax=15)\n",
    "legend();"
   ]
  },
  {
   "cell_type": "markdown",
   "metadata": {},
   "source": [
    "### **Answer to question II-3-1**"
   ]
  },
  {
   "cell_type": "markdown",
   "metadata": {},
   "source": [
    "Let $X$ denote the elapsed time between two events. If $X>t$, that is, no event occurs during some delay $t$, the $N$ events must occur during a period of time of $T-t$, which is true with probability \n",
    "\n",
    "$$\n",
    "P(X>t)=\\left(\\dfrac{T-t}{T}\\right)^N=(1-t/T)^N=\\exp(N\\log(1-t/T)).\n",
    "$$\n",
    "\n",
    "As $T\\rightarrow\\infty$, $\\exp(N\\log(1-t/T))\\approx \\exp(-Nt/T)=\\exp(-\\lambda t)$, showing thus that $X$ becomes exponentially distributed."
   ]
  },
  {
   "cell_type": "markdown",
   "metadata": {},
   "source": [
    "### **Answer to question II-3-2**\n",
    "\n",
    "Histogram and QQ-plot figure confirm that inter-arrivals are exponentially distributed with parameter $\\lambda=N/T$."
   ]
  },
  {
   "cell_type": "code",
   "execution_count": 7,
   "metadata": {},
   "outputs": [
    {
     "name": "stdout",
     "output_type": "stream",
     "text": [
      "mean=0.050 (approx. 20 event per hour)\n",
      "var=0.003\n"
     ]
    },
    {
     "data": {
      "image/png": "[encoded data removed]",
      "text/plain": [
       "<Figure size 432x288 with 1 Axes>"
      ]
     },
     "metadata": {},
     "output_type": "display_data"
    },
    {
     "data": {
      "image/png": "[encoded data removed]",
      "text/plain": [
       "<Figure size 720x288 with 1 Axes>"
      ]
     },
     "metadata": {},
     "output_type": "display_data"
    }
   ],
   "source": [
    "N = 10**5     # number of events\n",
    "T = 5*10**3   # duration\n",
    "x = sort(T*rand(N)) # instants of events \n",
    "y = x[1:N]-x[:N-1]  # delay between events\n",
    "\n",
    "subplot(121)\n",
    "hist(y,bins=40,density=True,label='Data histogram');\n",
    "\n",
    "#########################################\n",
    "# Supply an estimate of lambda, assuming that \n",
    "# samples of data y follow an Exp(λ) distribution \n",
    "λ = 20\n",
    "#########################################\n",
    "print('mean={0:1.3f} (approx. {1} event per hour)\\nvar={2:1.3f}'\n",
    "      .format(1./λ,int(round(λ)),var(y)))\n",
    "t = linspace(0,max(y),100)\n",
    "figure(figsize=(10., 4.))\n",
    "plot(t,λ*exp(-λ*t),linewidth=2,color='r',\n",
    "     label='Exponential pdf')\n",
    "legend()\n",
    "title('pdf of inter-arrivals')\n",
    "\n",
    "#QQ-plot\n",
    "subplot(122,aspect=1)\n",
    "N2 = 1000      # sample size for QQ-plot\n",
    "y2 = sort(y[:N2])\n",
    "z  = sort((-1./λ)*log(rand(N2)))\n",
    "t = linspace(0,max(y2[-1],z[-1]),2)\n",
    "for k in range(N2):\n",
    "    plot(y2[k],z[k],'or')\n",
    "plot(t,t)\n",
    "axis(xmin=0,xmax=t[-1]+.1,ymin=0,ymax=t[-1]+.1)\n",
    "title('QQ-Plot')\n",
    "\n",
    "#--------------\n",
    "V4 = λ"
   ]
  },
  {
   "cell_type": "markdown",
   "metadata": {},
   "source": [
    "# III - The Poisson distribution\n",
    "\n",
    "The [Poisson distribution](https://en.wikipedia.org/wiki/Poisson_distribution) is a discrete distribution $X$ with probabilities that depend on a parameter $\\lambda$ and are in the form of\n",
    "\n",
    "$$\n",
    "P(X=k)=\\dfrac{\\lambda^k}{k!}e^{-\\lambda},\\quad{\\text for }\\;  k=0,1,2,\\ldots\n",
    "$$\n",
    "\n",
    "We denote by $\\mathcal{P}(\\lambda)$ the Poisson distribution with parameter $\\lambda$.\n",
    "\n",
    "**1)** To make clear why the Poisson distribution naturally arises in counting random events, consider the instants of arrival generated  in the simulation of section **II-3-2**, where we found that the inter-arrivals were exponentially distributed with intensity $\\lambda=N/T=20$ events per hour. Check that the number of events per hour is well described by a Poisson distribution (take $N=10^5$). To this end, plot the histogram of the number of events per day and check that it fits well a $\\mathcal{P}(\\lambda)$ distribution, with $\\lambda=N/T$.\n",
    "\n",
    "**2)** In section **I**, we have seen how, in some situations, samples of a distribution with a given pdf can be obtained from samples uniformly distributed over the interval $[0,1]$. In the same way, samples from discrete distributions can be obtained via sampling of a uniform distribution over $[0,1]$. Letting $X$ a discrete random variable with values in a countable set (finite $\\{x_i; i=0,1,\\ldots, N\\}$, or infinite $\\{x_i; i=0,1,\\ldots\\}$), and $P(X=x_i)=p_i$. Then, letting $u$ denote a sample from an $\\mathcal{U}_{[0,1]}$ distribution, the value $x_k$ such that that $X = x_k$ if\n",
    "\n",
    "$$\n",
    "\\sum_{i=0}^{k-1}p_i<u\\leq \\sum_{i=0}^{k}p_i\n",
    "$$\n",
    "\n",
    "is obtained with probability $p_k$.\n",
    "\n",
    "> - **1 - ** Prove the above statement.\n",
    "> - **2 - ** From this result, draw $N=10^5$ samples from a Poisson distribution with parameter $\\lambda= 20$ and check that the corresponding histogram fits well a Poisson distribution.\n",
    "\n",
    "\n",
    "**3)**\n",
    "Alternatively, use the *statistics* sublibrary of *Scipy* to draw samples from the Poisson distribution, with $\\lambda= 20$. Check from empirical estimates, computed from $N=10^5$ samples, that $\\mathbb{E}[X]=\\sigma_X^2=\\lambda$ for the Poisson distribution. \n"
   ]
  },
  {
   "cell_type": "markdown",
   "metadata": {},
   "source": [
    "### **Answer to question III-1**"
   ]
  },
  {
   "cell_type": "code",
   "execution_count": 8,
   "metadata": {},
   "outputs": [],
   "source": [
    "# Function Poisson_dist generates the first n probabilities \n",
    "# of a Poisson distribution with parameter λ\n",
    "# 2 implementations are proposed here\n",
    "# argument n represents the number of probabilities considered\n",
    "\n",
    "# 2) Using function scipy.stats.poisson:\n",
    "from scipy.stats import poisson\n",
    "def Poisson_dist(n=ceil(2*λ),λ=λ):\n",
    "    return poisson.pmf(arange(n),λ)\n"
   ]
  },
  {
   "cell_type": "code",
   "execution_count": 9,
   "metadata": {},
   "outputs": [
    {
     "data": {
      "text/plain": [
       "array([2.06115362e-09, 4.12230724e-08, 4.12230724e-07, 2.74820483e-06,\n",
       "       1.37410241e-05, 5.49640966e-05, 1.83213655e-04, 5.23467587e-04,\n",
       "       1.30866897e-03, 2.90815326e-03, 5.81630652e-03, 1.05751028e-02,\n",
       "       1.76251713e-02, 2.71156481e-02, 3.87366401e-02, 5.16488535e-02,\n",
       "       6.45610669e-02, 7.59541964e-02, 8.43935515e-02, 8.88353174e-02])"
      ]
     },
     "execution_count": 9,
     "metadata": {},
     "output_type": "execute_result"
    }
   ],
   "source": [
    "Poisson_dist(n=20)"
   ]
  },
  {
   "cell_type": "code",
   "execution_count": 10,
   "metadata": {
    "scrolled": true
   },
   "outputs": [
    {
     "data": {
      "image/png": "[encoded data removed]",
      "text/plain": [
       "<Figure size 576x144 with 1 Axes>"
      ]
     },
     "metadata": {},
     "output_type": "display_data"
    }
   ],
   "source": [
    "# Simulation of the instants of events (as in II-3-2)\n",
    "N = 10**5            # number of events\n",
    "T = 5*10**3          # duration\n",
    "λ = N/T\n",
    "t = sort(T*rand(N))  # instants of invents\n",
    "\n",
    "# Histogram\n",
    "# Number of events occuring in successive times intervals [0,1[,[1,2[,...:\n",
    "nb_events = array([sum(floor(t)==k) for k in range(int(t[-1]))])\n",
    "# Number of occurences of 0,1,2,... events among the 1 hour time intervals:\n",
    "hist_      = array([sum(nb_events==k) for k in range(max(nb_events)+1)])\n",
    "#####################################\n",
    "# Normalize the histogram of data\n",
    "hist_      = hist_ / T\n",
    "#####################################\n",
    "\n",
    "figure(figsize=(8., 2.))\n",
    "plot(0, hist_[0],'ro',markersize=6,label='Data histogram')\n",
    "for k,v in enumerate(hist_[1:]):\n",
    "    plot(k+1, v,'ro',markersize=6)\n",
    "\n",
    "# Poisson distribution\n",
    "Poisson = Poisson_dist(n=len(hist_))\n",
    "x       = range(len(hist_))\n",
    "vlines(x,0,Poisson,colors='b',label=\"Poisson distribution\")\n",
    "plot(x, Poisson,'bx')\n",
    "\n",
    "legend(loc='upper right')\n",
    "title(('Poisson distribution $\\mathcal{P}$(%d),'\n",
    "       +' generated from the simulation of independent times of arrival')\n",
    "       %λ)\n",
    "\n",
    "#------------------\n",
    "# test variable V_3_1 represents histogram mean\n",
    "# and should be close to N/T=20\n",
    "V5 = sum(hist_*range(len(hist_)))"
   ]
  },
  {
   "cell_type": "markdown",
   "metadata": {},
   "source": [
    "### **Answer to question III-2-1**"
   ]
  },
  {
   "cell_type": "markdown",
   "metadata": {},
   "source": [
    "Since for $0\\leq a\\leq b \\leq 1$ we have $P(u\\in ]a,b])=b-a$,  the probability that $\\sum_{i=0}^{k-1}p_i<u\\leq \\sum_{i=0}^{k}p_i$ is $(\\sum_{i=0}^{k}p_i)-(\\sum_{i=0}^{k-1}p_i)=p_k$. Thus the value $x_k$ is obtained with probability $p_k$, which corresponds to the distribution of $X$."
   ]
  },
  {
   "cell_type": "markdown",
   "metadata": {},
   "source": [
    "### **Answer to question III-2-2**"
   ]
  },
  {
   "cell_type": "code",
   "execution_count": 11,
   "metadata": {},
   "outputs": [
    {
     "data": {
      "image/png": "[encoded data removed]",
      "text/plain": [
       "<Figure size 576x144 with 1 Axes>"
      ]
     },
     "metadata": {},
     "output_type": "display_data"
    }
   ],
   "source": [
    "N        = 10**6 # number of samples\n",
    "λ        = 20\n",
    "nb_proba = 41    # number of probabilities accounted for\n",
    "\n",
    "# Histogram\n",
    "Poisson          = Poisson_dist(n=nb_proba)\n",
    "cum_distribution = cumsum(Poisson) # cumulated Poisson distribution\n",
    "u                = sort(rand(N))\n",
    "hist_            = zeros(nb_proba) # histogram initialization\n",
    "index            = 0               # index position in vector u\n",
    "for n in range(nb_proba):\n",
    "    while (index<N) and (u[index]<cum_distribution[n]) :  \n",
    "        hist_[n]  +=1.  # counting how many samples of u fall\n",
    "        index     +=1   # inside cumulated distribution intervals.\n",
    "hist_ = hist_/index     # Histogram normalization.\n",
    "\n",
    "figure(figsize=(8., 2.))\n",
    "plot(0, hist_[0],'ro',markersize=6,label='Data histogram')\n",
    "for k,v in enumerate(hist_[1:]):\n",
    "    plot(k+1, v,'ro',markersize=6)\n",
    "\n",
    "# Poisson distribution\n",
    "Poisson  = Poisson_dist(n=nb_proba)\n",
    "x        = range(nb_proba)\n",
    "vlines(x,0,Poisson,colors='b',label=\"Poisson distribution\")\n",
    "plot(x, Poisson,'bx')\n",
    "legend(loc='upper right')\n",
    "title(('Poisson distribution $\\mathcal{P}$(%d),'\n",
    "       +' generated from uniform distribution')%λ);"
   ]
  },
  {
   "cell_type": "markdown",
   "metadata": {},
   "source": [
    "### **Answer to question III-3**"
   ]
  },
  {
   "cell_type": "code",
   "execution_count": 12,
   "metadata": {},
   "outputs": [
    {
     "data": {
      "image/png": "[encoded data removed]",
      "text/plain": [
       "<Figure size 576x144 with 1 Axes>"
      ]
     },
     "metadata": {},
     "output_type": "display_data"
    }
   ],
   "source": [
    "from scipy.stats import poisson\n",
    "\n",
    "λ        = 20\n",
    "N        = 10**5\n",
    "nb_proba = 41    \n",
    "\n",
    "# Histogram generated from function scipy.stats.poisson.rvs\n",
    "#############################################\n",
    "# Supply parameter mu for function poisson.rvs\n",
    "# see the following ling for help about poisson.rvs:\n",
    "# https://docs.scipy.org/doc/scipy/reference/generated/scipy.stats.poisson.html\n",
    "c      = 20\n",
    "sample = poisson.rvs(mu=c, size=N)\n",
    "#############################################\n",
    "hist_  = array([sum(sample==k) for k in range(nb_proba)]) # Histogram\n",
    "hist_  = hist_/sum(hist_)         # Histogram normalization\n",
    "figure(figsize=(8., 2.))\n",
    "plot(0, hist_[0],'ro',markersize=6,label='Data histogram')\n",
    "for k,v in enumerate(hist_[1:]):\n",
    "    plot(k+1, v,'ro',markersize=6)\n",
    "\n",
    "# Poisson distribution\n",
    "Poisson  = Poisson_dist(n=nb_proba)\n",
    "x        = range(nb_proba)\n",
    "vlines(x,0,Poisson,colors='b',label=\"Poisson distribution\")\n",
    "plot(x, Poisson,'bx')\n",
    "\n",
    "legend(loc='upper right')\n",
    "title(('Poisson distribution $\\mathcal{P}$(%d),'\n",
    "       +' generated from function scipy.stats.poisson.rvs')%λ)\n",
    "#---------\n",
    "V6 = c"
   ]
  },
  {
   "cell_type": "code",
   "execution_count": 13,
   "metadata": {},
   "outputs": [
    {
     "data": {
      "text/plain": [
       "range(0, 41)"
      ]
     },
     "execution_count": 13,
     "metadata": {},
     "output_type": "execute_result"
    }
   ],
   "source": [
    "range(len(hist_))"
   ]
  },
  {
   "cell_type": "markdown",
   "metadata": {},
   "source": [
    "Estimated mean and variance of the Poisson distribution: we check that we get approximatly \n",
    "$\\mathbb{E}[X]=\\sigma_X^2=\\lambda$ from simulation."
   ]
  },
  {
   "cell_type": "code",
   "execution_count": 14,
   "metadata": {},
   "outputs": [
    {
     "name": "stdout",
     "output_type": "stream",
     "text": [
      "λ = 20\n",
      "estimated mean = 19.99\n",
      "estimated var = 19.89\n"
     ]
    }
   ],
   "source": [
    "####################################\n",
    "# compute mean and variance of sample vector \n",
    "# calculated in the code cell above\n",
    "μ_sample  = sum(hist_*range(len(hist_)))\n",
    "σ2_sample = sum(hist_*range(len(hist_))*range(len(hist_))) - sum(hist_*range(len(hist_)))**2\n",
    "####################################\n",
    "print((\"\\u03BB = {0}\\nestimated mean = {1:1.2f}\\n\"\n",
    "       +\"estimated var = {2:1.2f}\")\n",
    "      .format(λ,μ_sample, σ2_sample))\n",
    "\n",
    "#------------------------\n",
    "V7 = μ_sample\n",
    "V8 = σ2_sample"
   ]
  },
  {
   "cell_type": "markdown",
   "metadata": {},
   "source": [
    "# Conclusion\n",
    "\n",
    "In this Lab, we have considered several ways of drawing independant samples distributed according to an absolutly continuous or a discrete distribution:\n",
    "\n",
    "> - Simulation of samples from samples of uniform distributions;\n",
    "> - Simulation of phenomena that generate samples distributed according to the target distribution;\n",
    "> - Simulation from the random generator of Scipy.\n",
    "\n",
    "We have devoted particular attention to the exponential and Poisson distributions that are of particular interest in the modelling of queues. We also considered the mean and variance of these distributions and their calculation from observed samples. From next week, you will use these distributions to simulate queues."
   ]
  },
  {
   "cell_type": "markdown",
   "metadata": {},
   "source": [
    "# Your answers for this notebook"
   ]
  },
  {
   "cell_type": "code",
   "execution_count": 15,
   "metadata": {},
   "outputs": [
    {
     "name": "stdout",
     "output_type": "stream",
     "text": [
      "--------------------------------------------\n",
      "VALIDITY OF RESULTS SUPPLIED FOR WEEK I - Part II:\n",
      "--------------------------------------------\n",
      "V1 :  OK\n",
      "V2 :  OK\n",
      "V3 :  OK\n",
      "V4 :  OK\n",
      "V5 :  OK\n",
      "V6 :  OK\n",
      "V7 :  OK\n",
      "V8 :  OK\n"
     ]
    }
   ],
   "source": [
    "print(\"--------------------------------------------\\n\"\n",
    "      +\"VALIDITY OF RESULTS SUPPLIED FOR WEEK I - Part II:\\n\"\n",
    "      +\"--------------------------------------------\")\n",
    "results  = dict()\n",
    "for k in range(1,9):\n",
    "    results[\"V\"+str(k)] = \"NO\"\n",
    "try: \n",
    "    if abs(V1-1.)<.1:    results[\"V1\"] =  \"OK\"\n",
    "except: pass\n",
    "try: \n",
    "    if abs(V2-.5)<.01:   results[\"V2\"] =  \"OK\"\n",
    "except: pass\n",
    "try: \n",
    "    if abs(V3-.33)<.1:   results[\"V3\"] =  \"OK\"\n",
    "except: pass\n",
    "try: \n",
    "    if abs(V4-20)<.1:    results[\"V4\"] =  \"OK\"\n",
    "except: pass\n",
    "try: \n",
    "    if abs(V5-20)<.005:  results[\"V5\"] =  \"OK\"\n",
    "except: pass\n",
    "try: \n",
    "    if abs(V6-20)<.0001: results[\"V6\"] =  \"OK\"\n",
    "except: pass\n",
    "try: \n",
    "    if abs(V7-20)<.5:    results[\"V7\"] =  \"OK\"\n",
    "except: pass\n",
    "try: \n",
    "    if abs(V8-20)<.5:    results[\"V8\"] =  \"OK\"\n",
    "except: pass\n",
    "\n",
    "for key,val in results.items():\n",
    "    print(key,': ',val)"
   ]
  },
  {
   "cell_type": "code",
   "execution_count": null,
   "metadata": {},
   "outputs": [],
   "source": []
  }
 ],
 "metadata": {
  "kernelspec": {
   "display_name": "Python 3",
   "language": "python",
   "name": "python3"
  },
  "language_info": {
   "codemirror_mode": {
    "name": "ipython",
    "version": 3
   },
   "file_extension": ".py",
   "mimetype": "text/x-python",
   "name": "python",
   "nbconvert_exporter": "python",
   "pygments_lexer": "ipython3",
   "version": "3.6.5"
  }
 },
 "nbformat": 4,
 "nbformat_minor": 1
}
