{
 "cells": [
  {
   "cell_type": "markdown",
   "metadata": {},
   "source": [
    "\n",
    "<p><font size=\"5\">  MOOC: Understanding queues</font></p>\n",
    "<p><font size=\"5\">  Python simulations</p>\n",
    "<p><font size=\"5\">  Week III - Part II: Discrete-time Markov chains</p>\n",
    "\n",
    "\n",
    "----------------------------"
   ]
  },
  {
   "cell_type": "markdown",
   "metadata": {},
   "source": [
    "In this second part of the lab, we will study the token bucket mechanism. It uses tokens to ensure that the rate of clients entering a system is limited in order to avoid congestion in the system.\n",
    "\n",
    "In this context, we will show how a Markov chain behavior can be exhibited and study some properties of the system.\n",
    "\n",
    "**Notes**\n",
    "- To display the token bucket and transition diagram in your noteboook , do not forget to also upload the corresponding .png files.\n",
    "- This lab has been inspired by an exercise from the queueing theory book by Bruno Baynat \"Théorie des files d'attente: des chaînes de Markov aux réseaux à forme produit\", Hermès Science Publications (ISBN:978-2-7462-0120-0)."
   ]
  },
  {
   "cell_type": "markdown",
   "metadata": {},
   "source": [
    "# Token Bucket"
   ]
  },
  {
   "cell_type": "markdown",
   "metadata": {},
   "source": [
    "Let us consider a system to which clients arrive according to a Poisson process with rate $\\lambda=1.5$ arrivals per time unit. To regulate access into the system, a token-based mechanism is set up before the system. \n",
    "\n",
    "To enter the system, a client must get a token. Tokens are stored in a bucket which can contain up to $K = 3$ tokens. If the bucket is not empty when a client arrives then the client takes one token and enters the system. But if the bucket is empty then the client is lost. One new token is created each $T=1$ time unit. \n",
    "\n",
    "<img src=\"tocken_bucket.png\" height=250, width=380>\n",
    "\n",
    "We are going to study some properties of this system. For example, we would like to evaluate the loss probability of clients, that is to say the probability that the bucket is empty when a new client arrives.\n",
    "\n",
    "First we use an analytical approach. It can be remarked that the number of tokens in the bucket just after a new token has been produced is a discrete time Markov chain (DTMC). The loss probability of clients can be derived from the steady state distribution of this DTMC. Then we use simulations to estimate this loss probability and check that the estimated value is close to the theoretical one."
   ]
  },
  {
   "cell_type": "markdown",
   "metadata": {},
   "source": [
    "## Questions\n",
    "\n",
    "We assume again that the capacity of the bucket is limited to $K=3$ tokens, $T=1$ and $\\lambda=1.5$. \n",
    "\n",
    "**1)** Let $\\alpha_n$ be the probability that $n$ clients arrive during a slot of $T$ time units and let $\\beta_n$ be the probability that **at least** $n$ clients arrive during a slot of $T$ time units. \n",
    "\n",
    "Knowing that the arrival process of clients is a Poisson process, what are the expressions of $\\alpha_n$ and $\\beta_n$?\n",
    "\n",
    "**2)** Explain why $X$ is a discrete-time Markov chain. What are the possible values for $X_n$? In particular is it possible that $X_n=0$?\n",
    "\n",
    "**3)** If $X_n=1$ what are the possible values for $X_{n+1}$ and what are the corresponding transition probabilities? Same question for $X_n=2$ and $X_n=3$. Draw the transition diagram of $X$ and give its transition probability matrix $P$. \n",
    "\n",
    "**4)** Let $[\\pi_1,\\pi_2,\\pi_3]$ denote steady-state probability distribution of $X$. What is the linear system of equations satisfied by $[\\pi_1,\\pi_2,\\pi_3]$.\n",
    "Complete the code section to compute $[\\pi_1,\\pi_2,\\pi_3]$.\n",
    "\n",
    "**5)** What are the two conditions under which a token is lost?\n",
    "What is the probability that a token is lost? Compute this probability.\n",
    "\n",
    "**6)** What is the rate of consumed tokens (unit: tokens/s)? What is the rate of clients entering the system? Compute the client loss probability.\n",
    "\n",
    "**7)** We now use simulations to estimate this loss probability of clients and check that the estimated value is close to the theoretical one.\n",
    "Consider the code of the function **token_bucket** below. It simulates client arrivals and the operation of the token bucket mechanism. \n",
    "Complete and run the code. Estimate the loss \n",
    "\n",
    "---------------\n"
   ]
  },
  {
   "cell_type": "markdown",
   "metadata": {},
   "source": [
    "## Answers\n",
    "\n",
    "### **Answer to question 1** \n",
    "\n",
    "As the clients arrival process is a Poisson process with rate $\\lambda$, $\\alpha_n=\\dfrac{(\\lambda T)^n}{n!}e^{-\\lambda T}$. $\\beta_n=1-\\sum_{i=0:n-1}\\alpha_i$."
   ]
  },
  {
   "cell_type": "markdown",
   "metadata": {},
   "source": [
    "### **Answer to question 2** \n",
    "\n",
    "For any $n\\geq 0$, $X_{n}$ depends only on $X_{n-1}$ and on the random number of clients that arrive in the time interval $]t_{n-1},t_{n}]$. As the clients arrival process is a Poisson process, the number of arrivals on each time slot of length $T$ is independent from each other. Consequently, knowing $X_{n-1}$, $X_n$ is independent from $X_{n-2}, X_{n-3}, \\ldots$ and $X$ is a discrete time Markov chain.\n",
    "\n",
    "$X_n$ can be equal to 1,2 or 3. It cannot be equal to 0 since $X_n$ is the number of tokens in the bucket just after the production of a new token. \n"
   ]
  },
  {
   "cell_type": "markdown",
   "metadata": {},
   "source": [
    "### **Answer to question 3** \n",
    "\n",
    "<!-- If $X_n=1$, the token is consumed or not in the time interval $]t_{n},t_{n+1}]$ depending whether clients arrive or not during this period. Furthermore, in both cases a token is generated at time $t_{n+1}$. Thus $X_{n+1}=2$ or $X_{n+1}=1$. -->\n",
    "\n",
    "If $X_n=1$ and if no client arrives on $]t_{n},t_{n+1}]$ then $X_{n+1}=2$ as a new token is produced at time $t_{n+1}$. The corresponding probability is $\\alpha_0$, so $P(X_{n+1}=2 \\mid X_n=1)=\\alpha_0$. \n",
    "\n",
    "If $X_n = 1$ and it at least one client arrives on $]t_{n},t_{n+1}]$ then the first client consumes the token, the other clients are lost, a new token is produced at time $t_{n+1}$ and $X_{n+1} = 1$. The corresponding probability is $\\beta_1$, so $P(X_{n+1}=1 \\mid X_n=1)=\\beta_1$. One can observe that $\\alpha_0+\\beta_1=1$ so that the conditional probabilities sum up to $1$.\n",
    "\n",
    "In the same way, if $X_n=2$ it comes that $X_{n+1}$ can be equal to 1, 2 or 3, depending on the number of tokens consumed in the time interval $]t_{n},t_{n+1}]$. \n",
    "$$\n",
    "\\begin{array}{l}\n",
    "P(X_{n+1}=1 \\mid X_n=2) = P(\\text{\"2 arrivals or more\"})= \\beta_2 \\\\\n",
    "P(X_{n+1}=2 \\mid X_n=2) = P(\\text{\"1 arrival\"})= \\alpha_1 \\\\\n",
    "P(X_{n+1}=3 \\mid X_n=2) = P(\\text{\"0 arrival\"})= \\alpha_0 \\\\\n",
    "\\end{array}\n",
    "$$\n",
    "\n",
    "If $X_n = 3$ it is possible that on the next slot a token is lost. If no client arrives then the next token is lost because the bucket is full and $X_{n+1}=3$. If $1$ client arrives then $X_{n+1}=3$ as well, since one token is consumed and one token is produced. So,\n",
    "$P(X_{n+1}=3 \\mid X_n=3) = P(\\text{\"0 or 1 arrival\"})= \\alpha_0+\\alpha_1$.\n",
    "\n",
    "If $X_n=3$ and $3$ clients or more arrive on the next slot then $X_{n+1}=1$: $P(X_{n+1}=1 \\mid X_n=3) = \\beta_3$. And if $X_n = 3$ and $2$ clients arrive on the next slot then $X_{n+1}= 2$ so that $P(X_{n+1}=2 \\mid X_n=3) = \\alpha_2$.\n",
    "\n",
    "Again, it can be remarked that $\\alpha_0+\\alpha_1+\\alpha_2+\\beta_3 = 1$ so that we can be sure that we have not forgotten any possible case.\n",
    "\n",
    "\n",
    "\n",
    "<!--For any $n\\geq 0$, $X_{n}$ depends on $X_{n-1}$ only and on the random number $K_{n-1}$ of clients that arrive in the time interval $]t_{n-1},t_{n}]$:\n",
    "$$\n",
    "X_{n} = \\min(3, \\max(1,X_{n-1}+1-K_{n-1})),\n",
    "$$\n",
    "because the number of tokens at time $t_{n}$ is at least 1 and at most 3. Noting that $K_{n-1}$ does not depend on variables $X_0,\\ldots,X_{n-1}$, it comes that conditional to $X_{n-1}$, $X_n$ does not depend on $X_0,\\ldots,X_{n-1}$.\n",
    "Thus, $X$ is a discrete-time Markov chain with possible states 1, 2 and 3. -->\n",
    "\n",
    "Transition diagram of the chain:\n",
    "\n",
    "<img src=\"transition.png\" height=200, width=300>\n",
    "\n",
    "where the $P_{ij}=P(X_{n+1}=j|X_{n}=i)$ are given by\n",
    "\n",
    "$$\n",
    "\\begin{array}{llll}\n",
    "P_{11} &&= \\beta_1 =1-\\alpha_0 &= 1-e^{-\\lambda T}\\\\\n",
    "P_{22} &&= \\alpha_1 &=(\\lambda T)e^{-\\lambda T}\\\\\n",
    "P_{33} &&= \\alpha_0+\\alpha_1 &=(1+\\lambda T)e^{-\\lambda T}\\\\\n",
    "P_{12} &=P_{23} &= \\alpha_0 &=e^{-\\lambda T}\\\\\n",
    "P_{21} &&= \\beta_2 = 1-\\sum_{i=0}^1\\alpha_i&= 1-(1+\\lambda T)e^{-\\lambda T}\\\\\n",
    "P_{32} &&= \\alpha_2 &= \\dfrac{(\\lambda T)^2}{2}e^{-\\lambda T}\\\\\n",
    "P_{13} &&= 0 &\\text{(since $X_{n+1}\\leq X_{n}+1$ with probability 1)}\\\\\n",
    "P_{31} &&=\\beta_3 = 1-\\sum_{i=0}^2\\alpha_i &=1-(1+\\lambda T+\\dfrac{(\\lambda T)^2}{2})e^{-\\lambda T}\n",
    "\\end{array}\n",
    "$$"
   ]
  },
  {
   "cell_type": "markdown",
   "metadata": {},
   "source": [
    "### **Answer to question 4** \n",
    "\n",
    "The steady state distribution $[\\pi_1,\\pi_2,\\pi_3]$ satisfies equations $\\sum_{i=1}^3 \\pi_iP_{ij}=\\pi_j$ for $j=1,2,3$, that is, $\\pi (P-I)=0$ (with $I$ the identity matrix) and  $\\sum_{i=1}^3 \\pi_i=1$:\n",
    "\n",
    "$$\n",
    "\\left\\{\n",
    "\\begin{array}{cccc}\n",
    "-e^{-\\lambda T}\\pi_1 &+ [1-(1+\\lambda T)e^{-\\lambda T}]\\pi_2&+[1-(1+\\lambda T+ \\dfrac{(\\lambda T)^2}{2})e^{-\\lambda T}]\\pi_3 &=0\\\\\n",
    "e^{-\\lambda T}\\pi_1&+[(\\lambda T)e^{-\\lambda T}-1]\\pi_2&+\\dfrac{(\\lambda T)^2}{2}e^{-\\lambda T}\\pi_3&=0\\\\\n",
    "0&+e^{-\\lambda T}\\pi_2 &+[(1+\\lambda T)e^{-\\lambda T}-1]\\pi_3 &=0\\\\\n",
    "\\pi_1 &+\\pi_2 &+\\pi_3 &=1\n",
    "\\end{array}\n",
    "\\right.\n",
    "$$\n",
    "\n",
    "Note that the sum of the second and third equations equals the opposite of the first equation. Thus, the first equation is redundant and it can be discarded. Then, looking for the solution of the 3 last equations yields $[\\pi_1,\\pi_2,\\pi_3]=[0.616,0.255,0.129]$ (see code below)."
   ]
  },
  {
   "cell_type": "code",
   "execution_count": null,
   "metadata": {},
   "outputs": [],
   "source": [
    "%matplotlib inline\n",
    "from pylab import *"
   ]
  },
  {
   "cell_type": "code",
   "execution_count": null,
   "metadata": {},
   "outputs": [],
   "source": [
    "from scipy.linalg import solve\n",
    "# To use solve, you can have a look at\n",
    "# https://docs.scipy.org/doc/scipy/reference/tutorial/linalg.html#solving-linear-system\n",
    "T   = 1\n",
    "λ   = 1.5\n",
    "a   = λ*T\n",
    "e_a = exp(-a)\n",
    "A   = array([[e_a,  a*e_a-1, a**2/2*e_a],\n",
    "            [0,     e_a,     (1+a)*e_a-1],\n",
    "            [1,     1,       1      ]])\n",
    "####################################\n",
    "# give the expression of the steady-state distribution\n",
    "π = ...\n",
    "print('pi=',π)\n",
    "####################################\n",
    "\n",
    "#----------\n",
    "V1 = π[2]"
   ]
  },
  {
   "cell_type": "markdown",
   "metadata": {},
   "source": [
    "### **Answer to question 5** \n",
    "\n",
    "The token produced at time $t_{n+1}$ is lost if (i) the bucket was full at time $t_{n}$ and no client has arrived between $t_n$ and $t_{n+1}$. Since both events are independent, the corresponding probability is $\\pi_3\\alpha_0$.\n"
   ]
  },
  {
   "cell_type": "code",
   "execution_count": null,
   "metadata": {},
   "outputs": [],
   "source": [
    "#######################\n",
    "# Enter P_loss_token\n",
    "P_loss_token = ...\n",
    "#######################\n",
    "V2 = P_loss_token"
   ]
  },
  {
   "cell_type": "markdown",
   "metadata": {},
   "source": [
    "### **Answer to question 6** \n",
    "\n",
    "The rate of tokens production is $1/T$. As these tokens are lost with probability $\\pi_3\\alpha_0$, the rate of consumed tokens is $(1-\\pi_3\\alpha_0)/T$. As each client entering the system consumes one token, the rate of clients entering the system is also $\\lambda_e=(1-\\pi_3\\alpha_0)/T$. Thus, the rate of clients lost is $\\lambda-\\lambda_e$ and the loss probability of clients is $(\\lambda-\\lambda_e)/\\lambda$."
   ]
  },
  {
   "cell_type": "code",
   "execution_count": null,
   "metadata": {},
   "outputs": [],
   "source": [
    "#######################\n",
    "# Enter P_loss_client\n",
    "P_loss_client = ...\n",
    "#######################\n",
    "V3 = P_loss_client"
   ]
  },
  {
   "cell_type": "markdown",
   "metadata": {},
   "source": [
    "### **Answer to question 7** "
   ]
  },
  {
   "cell_type": "code",
   "execution_count": null,
   "metadata": {},
   "outputs": [],
   "source": [
    "λ     = 1.5  # intensity of clients arrivals at the bucket\n",
    "T     = 1.   # generation period of tokens\n",
    "Bsize = 3    # bucket size \n",
    "\n",
    "def token_bucket(x0=1, Tmax=100):\n",
    "    x       = [x0]  # bucket states at instants 0, t_1, t_2, ... \n",
    "                    # (just after the production of tokens)\n",
    "    x_aux   = x[-1] # bucket state between t_n and t_{n+1}\n",
    "    y       = []    # clients indicator: 1 --> enter the system, 0-->rejected)\n",
    "                    # y permits\n",
    "    τ       = [(-1/λ)*log(rand())] # times of client arrivals\n",
    "    n       = 0     # number of elapsed intervals of duration T\n",
    "    while τ[-1]<Tmax:\n",
    "        # generate tokens until next client arrival:\n",
    "        while τ[-1]> n*T+T:\n",
    "            n +=1 # increment time index\n",
    "            # update the bucket state (add a new token in the bucket \n",
    "            # if it is not full yet):\n",
    "            x.append(minimum(x_aux+1,Bsize))\n",
    "            x_aux = x[-1]\n",
    "        # check whether the new client enters the system or not:\n",
    "        if x_aux>0: # the new client enters the system\n",
    "            x_aux = x_aux-1\n",
    "            y.append(1)\n",
    "        else:       # the new client is rejected\n",
    "            y.append(0)\n",
    "        ####################################\n",
    "        # generate time of arrival of a new client:\n",
    "        τ.append(...)\n",
    "        ####################################        \n",
    "    τ = τ[:-1] # discard time of arrival > Tmax\n",
    "    return x, y, τ\n",
    "\n",
    "x, y, τ = token_bucket()\n",
    "figure(figsize=(12,4))\n",
    "subplot(121)\n",
    "step(T*arange(len(x)),x)\n",
    "axis(ymin=0,ymax=4)\n",
    "yticks([1,2,3],[1,2,3])\n",
    "title(\"Bucket state\")\n",
    "subplot(122)\n",
    "plot(τ,y,'r.')\n",
    "axis(ymin=-.5,ymax=1.5)\n",
    "yticks([0,1],[0,1])\n",
    "title(\"Clients acceptation (0: discarded, 1: accepted)\")\n",
    "\n",
    "#------\n",
    "x,y,τ = token_bucket(Tmax=10**4)\n",
    "#########################\n",
    "# Supply the estimate of clients loss probability\n",
    "V4    = ...\n",
    "#########################\n",
    "print(\"Estimated clients loss probability = \",V4)"
   ]
  },
  {
   "cell_type": "markdown",
   "metadata": {},
   "source": [
    "**Remark** It can be noticed that from the point of view of tokens, the bucket is a $D/M/1/K$ queue (with $K=3$). Indeed, tokens arrive at deterministic times $nT$ and the time necessary to consume 1 token has distribution $Exp(\\lambda)$. The $D/M/1/K$ queue is not a Markovian queue: the number of tokens in the bucket is not a continuous time Markov chain. However, at times $t_n=(nT)^+$, the number of tokens in the bucket is a discrete time Markov chain and we used this property to solve the problem. "
   ]
  },
  {
   "cell_type": "markdown",
   "metadata": {},
   "source": [
    "# Conclusion\n",
    "\n",
    "This token bucket example illustrates that it is sometimes possible to compute quite simply some parameters such as the steady state distribution from a simulation, while analytical derivation can be somewhat more tedious. However, perhaps you noticed that writing a function that correctly simulates the phenomenon under study requires a precise understanding of its evolution mechanisms and care at programming. You will have more opportunities to simulate other Markovian evolutions in the next labs.\n"
   ]
  },
  {
   "cell_type": "markdown",
   "metadata": {},
   "source": [
    "# Your answers for this notebook"
   ]
  },
  {
   "cell_type": "code",
   "execution_count": null,
   "metadata": {},
   "outputs": [],
   "source": [
    "print(\"----------------------------------------------------\\n\"\n",
    "      +\"VALIDITY OF RESULTS SUPPLIED FOR WEEK III - Part II:\\n\"\n",
    "      +\"----------------------------------------------------\")\n",
    "results  = dict()\n",
    "for k in range(1,5):\n",
    "    results[\"V\"+str(k)] = \"NO\"\n",
    "try: \n",
    "    if abs(V1-.13)<.01:    results[\"V1\"] =  \"OK\"\n",
    "except: pass\n",
    "try: \n",
    "    if abs(V2-.029)<.001:  results[\"V2\"] =  \"OK\"\n",
    "except: pass\n",
    "try: \n",
    "    if abs(V3-.35)<.01:    results[\"V3\"] =  \"OK\"\n",
    "except: pass\n",
    "try: \n",
    "    if abs(V4-.35)<.02:     results[\"V4\"] =  \"OK\"\n",
    "except: pass\n",
    "\n",
    "for key,val in results.items():\n",
    "    print(key,': ',val)"
   ]
  }
 ],
 "metadata": {
  "kernelspec": {
   "display_name": "Python 3",
   "language": "python",
   "name": "python3"
  },
  "language_info": {
   "codemirror_mode": {
    "name": "ipython",
    "version": 3
   },
   "file_extension": ".py",
   "mimetype": "text/x-python",
   "name": "python",
   "nbconvert_exporter": "python",
   "pygments_lexer": "ipython3",
   "version": "3.6.0"
  }
 },
 "nbformat": 4,
 "nbformat_minor": 1
}
